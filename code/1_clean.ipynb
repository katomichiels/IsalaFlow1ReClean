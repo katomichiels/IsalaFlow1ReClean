{
 "cells": [
  {
   "cell_type": "code",
   "execution_count": 2,
   "id": "fa791b1e-78b5-42de-b681-33a9e7a6b0c3",
   "metadata": {},
   "outputs": [],
   "source": [
    "\n",
    "import sys\n",
    "sys.path.append('C:/Users/LUCP12511/Documents/PhD Kato/ISALA/Repos/BIU-master') # Modify this to where you have downloaded the BIU library\n",
    "#import biu\n",
    "import numpy as np\n",
    "import pandas as pd\n",
    "import matplotlib.pylab as plt\n",
    "plt.rcParams['svg.fonttype'] = 'none'\n",
    "\n",
    "import seaborn as sns\n",
    "import scipy\n",
    "\n",
    "# install rdmpy with pip install git+https://github.com/thiesgehrmann/rdmpy\n",
    "#from rdmpy import RDM\n",
    "#RDM.meta(source=\"repos/LunaQuestionnaire/clean.ipynb\")"
   ]
  },
  {
   "cell_type": "markdown",
   "id": "8fb8309b-de8e-409a-b451-2f9455eeb567",
   "metadata": {},
   "source": [
    "# Functions"
   ]
  },
  {
   "cell_type": "code",
   "execution_count": 3,
   "id": "a52e69d5-d006-43d6-82e8-ef073a8cdf5d",
   "metadata": {},
   "outputs": [],
   "source": [
    "def freq(lst, key=lambda x: x):\n",
    "    \"\"\"\n",
    "    Count the number of occurances in a list.\n",
    "    Input:\n",
    "        lst: an iterable list\n",
    "        key: a callable function that is called upon the value, the return value of which is counted\n",
    "    \n",
    "    Output: Dictionary with count of each item\n",
    "    \"\"\"\n",
    "    F = {}\n",
    "    for item in lst:\n",
    "        if pd.isna(item):\n",
    "            item = None\n",
    "        #fi\n",
    "        F[key(item)] = F.get(key(item), 0) + 1\n",
    "    #efor\n",
    "    return F\n",
    "\n",
    "\n",
    "def qerf(lst, key=lambda x: x):\n",
    "    \"\"\"\n",
    "    Return the frequency of objects in a list, indexed by their frequency, rather than by the item itself.\n",
    "    parameters:\n",
    "    -----------\n",
    "    lst: list[obj]\n",
    "        List of hashable objects\n",
    "    key: callable(obj)\n",
    "        A function which will be called upon the objects in the list\n",
    "        \n",
    "    example:\n",
    "    qerf([1,2,3,3,4,4,4])\n",
    "     { 1: [1,2],\n",
    "       2: [3],\n",
    "       3: [4]\n",
    "       }\n",
    "    \"\"\"\n",
    "    f = freq(lst, key)\n",
    "    q = { }\n",
    "    for (i,c) in f.items():\n",
    "        q[c] = q.get(c,[]) + [i]\n",
    "    #efor\n",
    "    return q"
   ]
  },
  {
   "cell_type": "markdown",
   "id": "4178a8a5-89f0-4da4-bffe-4346fd149bce",
   "metadata": {},
   "source": [
    "# Load the Isala Flow 1 questionnaire data"
   ]
  },
  {
   "cell_type": "code",
   "execution_count": 4,
   "id": "0e0e06c3-44ed-4938-a066-e2ed7d83958d",
   "metadata": {},
   "outputs": [],
   "source": [
    "#with RDM('../data/processed/merged_questionnaires.pkl', 'r', nouser=True) as ifd:\n",
    "#    Qraw = pd.read_pickle(ifd)\n",
    "#ewith\n",
    "Qraw = pd.read_pickle(\"../data/processed/merged_questionnaires.rdm_thies_2024-08-09T11-49-27-140516.pkl\")\n",
    "    \n",
    "#Qraw = pd.read_excel('../data/processed/merged_from_sharepoint_flow1_all_questionnaires.20231031.xlsx')"
   ]
  },
  {
   "cell_type": "markdown",
   "id": "a849eda6-043f-4f93-bd38-995f53381340",
   "metadata": {},
   "source": [
    "## Search for questions\n",
    "Type in words that are part of a question in order to get back the names of matching columns"
   ]
  },
  {
   "cell_type": "code",
   "execution_count": 363,
   "id": "ea582bd9-2cce-406a-a965-644f2042207e",
   "metadata": {},
   "outputs": [
    {
     "data": {
      "application/vnd.jupyter.widget-view+json": {
       "model_id": "152b230398a242f79117da77d717ee62",
       "version_major": 2,
       "version_minor": 0
      },
      "text/plain": [
       "interactive(children=(Text(value='', description='query'), Output()), _dom_classes=('widget-interact',))"
      ]
     },
     "metadata": {},
     "output_type": "display_data"
    }
   ],
   "source": [
    "from ipywidgets import interact, interactive, fixed, interact_manual\n",
    "## Interactive questionnaire search\n",
    "def search_questionnaire(query):\n",
    "    if len(query) < 2:\n",
    "        return None\n",
    "    #fi\n",
    "    return Qraw[[ x for x in Qraw.columns if query.lower() in x.lower() ]].transpose()\n",
    "#edef\n",
    "\n",
    "_ = interact(search_questionnaire, query='')"
   ]
  },
  {
   "cell_type": "markdown",
   "id": "6a71121b-36f5-4eef-83ca-7f988eb0cfed",
   "metadata": {},
   "source": [
    "## Prepare the cleaned dataframe"
   ]
  },
  {
   "cell_type": "code",
   "execution_count": 15,
   "id": "0c6a54aa-f62c-420c-8482-aebf782a1eea",
   "metadata": {},
   "outputs": [],
   "source": [
    "QC = Qraw[['Q0.Deelnemersnummer']].rename(columns={'Q0.Deelnemersnummer':'IsalaID'}).copy()"
   ]
  },
  {
   "cell_type": "markdown",
   "id": "80444e7e-f4ea-4f3f-8d41-de1bbd222151",
   "metadata": {},
   "source": [
    "# Clean questions"
   ]
  },
  {
   "cell_type": "markdown",
   "id": "1e0f6b61-2ee0-4c28-b2f2-862d3e94dfb7",
   "metadata": {},
   "source": [
    "## General"
   ]
  },
  {
   "cell_type": "markdown",
   "id": "19756969-b782-40e7-9e0b-bd022c62e969",
   "metadata": {},
   "source": [
    "### Gender"
   ]
  },
  {
   "cell_type": "code",
   "execution_count": 16,
   "id": "1fe621eb-9ee8-4a5b-adcd-e1585fde9f26",
   "metadata": {},
   "outputs": [],
   "source": [
    "#Sex\n",
    "def clean_gender(val):\n",
    "    if pd.isna(val):\n",
    "        return None\n",
    "    elif 'Vrouw' in val:\n",
    "        return 'Vrouw'\n",
    "    elif 'Anders' in val:\n",
    "        return 'Other'\n",
    "    else:\n",
    "        return None\n",
    "    #fi\n",
    "#edef\n",
    "QC['General.Gender'] = Qraw[\"Q1.Q1.[Geslacht - Selected Choice]\"].apply(clean_gender)"
   ]
  },
  {
   "cell_type": "markdown",
   "id": "998ca147-9775-4880-989b-a34a05e4a878",
   "metadata": {},
   "source": [
    "### Age"
   ]
  },
  {
   "cell_type": "code",
   "execution_count": 17,
   "id": "8d28782b-2fe9-4f56-aea3-c50be5b6a755",
   "metadata": {},
   "outputs": [],
   "source": [
    "#Age\n",
    "def clean_age(x): \n",
    "    if pd.isna(x):\n",
    "        return None\n",
    "    elif str(x).isnumeric():\n",
    "        if x <= 200:\n",
    "            return int(x)\n",
    "        elif x > 200:\n",
    "            return int(2020 - x)\n",
    "        #fi\n",
    "    else:\n",
    "        return None\n",
    "    #fi\n",
    "#edef\n",
    "QC['General.Age'] = Qraw[\"Q1.Q2_1.[Enkele algemene vragen over jou: - Leeftijd (jaar)]\"].apply(clean_age)"
   ]
  },
  {
   "cell_type": "markdown",
   "id": "23d855db-9cce-4cc8-96cb-cb9c9ef8f997",
   "metadata": {},
   "source": [
    "### Height"
   ]
  },
  {
   "cell_type": "code",
   "execution_count": 18,
   "id": "50e4648e-d88b-4e0d-bc7d-147b7787335a",
   "metadata": {},
   "outputs": [],
   "source": [
    "#Height\n",
    "def clean_height(x): \n",
    "    if pd.isna(x):\n",
    "        return None\n",
    "    elif str(x).isnumeric():\n",
    "        if x > 3:\n",
    "            return int(x)\n",
    "        elif x <= 3:\n",
    "            return int(x * 100)\n",
    "        #fi\n",
    "    else:\n",
    "        return None\n",
    "    #fi\n",
    "#edef\n",
    "QC['General.Height'] = Qraw[\"Q1.Q2_2.[Enkele algemene vragen over jou: - Lengte (cm)]\"].apply(clean_height)"
   ]
  },
  {
   "cell_type": "markdown",
   "id": "be215ff2-8be2-4638-b824-5bb09a7c2ff0",
   "metadata": {},
   "source": [
    "### Weight"
   ]
  },
  {
   "cell_type": "code",
   "execution_count": 19,
   "id": "c497ca65-d749-4c5f-b484-ab55e0afe660",
   "metadata": {},
   "outputs": [],
   "source": [
    "#Weight\n",
    "\n",
    "def clean_weight(val):\n",
    "    if pd.isna(val):\n",
    "        return None\n",
    "    elif str(val).isnumeric():\n",
    "        return float(val)\n",
    "    else:\n",
    "        return None\n",
    "    #fi\n",
    "#edef\n",
    "\n",
    "QC['General.Weight'] = Qraw['Q1.Q2_3.[Enkele algemene vragen over jou: - Gewicht (kg)]'].apply(clean_weight)"
   ]
  },
  {
   "cell_type": "markdown",
   "id": "7fc7ba38-ebdf-4ac4-b5de-526b73b1ff9c",
   "metadata": {},
   "source": [
    "### Education"
   ]
  },
  {
   "cell_type": "code",
   "execution_count": 20,
   "id": "0bdb5e8f-0ab8-4eaf-b48d-c2edb930eb80",
   "metadata": {},
   "outputs": [],
   "source": [
    "map_main = {            #dictionnary for question Q1.Q18\n",
    "'Postuniversitair: doctor': 'PhD',\n",
    " 'Hogeschool: bachelor': 'College',\n",
    " 'Universiteit: bachelor/master (kandidaat/licenciaat)': 'University',\n",
    " 'Secundair onderwijs: KSO': 'Secondary education',\n",
    " 'Secundair onderwijs: ASO': 'Secondary education',\n",
    " 'Secundair onderwijs: BSO': 'Secondary education',\n",
    " 'Secundair onderwijs: TSO': 'Secondary education',\n",
    " 'Lagere school': 'Primary education',\n",
    " 'Geen': 'No',\n",
    " '': None  \n",
    "}\n",
    "\n",
    "map_other = {  #If still studying: refers to highest completed degree\n",
    " 'Hogeschool master': 'College',\n",
    " 'Hogeschool - postgraduaat': 'College',\n",
    " 'Master beeldende kunsten aan een hogeschool': 'College',\n",
    " 'Hogeschool postgraduaat na bachelor': 'College',\n",
    " 'professionele bachelor dans': 'College',\n",
    " 'Hogeschool: master': 'College',\n",
    " 'Dit is niet relevant ': None,\n",
    " 'Hogeschool: bachelor -&gt; maar ik studeer nog verder voor een master': 'College',\n",
    " 'International Baccalaureate (pre-universitair diploma, ongeveer gelijk aan ASO) ': 'Seconday education',\n",
    " '4de jaar kso': 'Primary education',\n",
    " 'Hogeschool: lange type': 'College',\n",
    " 'Specialisatiejaar hogeschool': 'College',\n",
    " 'Hbo 5 verpleegkunde': 'College',\n",
    " 'graduaat HBO5': 'College',\n",
    " 'Graduaat (volwassenonderwijs)': 'College',\n",
    " 'Bezig met universitaire opleiding, dus voorlopig alleen diploma van ASO secundair onderwijs': 'Seconday education',\n",
    " 'Hoger beroepsonderwijs': 'College',\n",
    " 'zorgkundige': 'Seconday education',\n",
    " 'Hb05 verpleging ': 'College',\n",
    " 'Hogeschool: Master': 'College',\n",
    " 'Hbo-opleiding ': 'College',\n",
    " 'Bachelor na bachelor': 'College',\n",
    " 'HBO5': 'College',\n",
    " 'deeltijds onderwijs': 'Secondary education',\n",
    " 'MBO4': 'Seconday education',\n",
    " 'bachelor na bachelor': 'College',\n",
    " 'Hbo5': 'College',\n",
    " 'Banaba': 'College',\n",
    " 'Banaba Onco': 'College',\n",
    " 'Manama': 'University',\n",
    " 'Nog studerend: TSO middelbaar': 'Primary education',\n",
    " 'Hbo': 'College',\n",
    " 'Laatstejaars bachelor': 'Seconday education',\n",
    " 'Hoger onderwijs kort type': 'College',\n",
    " 'Technisch administratief': 'College', \n",
    " 'Hoger middelbaar kantoor/handel': \"Secondary education\",\n",
    " 'Student op Universiteit Antwerpen (2de Bachelor momenteel) ': \"Secondary education\",\n",
    " 'hogeschool: master': 'College',\n",
    " 'HBO5 hoger beroepsonderwijs verpleegkunde ': 'College',\n",
    " 'Gebrevetteerd verpleegkundige A2': 'College',\n",
    " 'Hbo propedeuse ': \"Secondary education\",\n",
    " 'MBO (middelbaar beroepsonderwijs = nederland niveau)': \"Secondary education\",\n",
    " 'Momenteel bezig met Biomedische wetenschappen aan de universiteit Antwerpen, 2e bachelor': \"Secondary education\",\n",
    " 'laatste jaar master momenteel': \"University\",\n",
    " 'Hogeschool: bachelor - momenteel studeer ik voor mijn master (afstudeerjaar 2021)': 'College',\n",
    " 'postgraduaat na master': \"University\",\n",
    " 'Vwo diploma Nederland, bezig met hogeschool belgie': \"Seconday education\",\n",
    " 'A2 verpleging': 'College',\n",
    " 'Master na master': \"University\",\n",
    " 'Graduaat': 'College',\n",
    " 'Hbo5 verpleegkunde': 'College',\n",
    " 'Hogeschool: lange type (master)': 'College',\n",
    " 'verdergezet secundair ': \"Secondary education\",\n",
    " 'Deeltijds kunstonderwijs': None,\n",
    " '4 jaar handel gestopt op 16 jaar': 'Primary education',\n",
    " 'Mavo': 'Secondary education',\n",
    " 'Volwassenenonderwijs ': 'College',\n",
    " 'BanaBa en een postgraduaat opleiding UGent': 'College',\n",
    " 'volwassenonderwijs syntra ': 'College',\n",
    " 'HBOV verpleegkunde': 'College',\n",
    " 'hogeschool beroepsopleiding': 'College',\n",
    " 'Nog steeds student in een masteropleiding ': 'University',\n",
    " 'Hogeschool: graduaat': 'College',\n",
    " 'Master na Master ': 'University',\n",
    " '2 masters (universiteit)': 'University',\n",
    " 'Hoger beroeps onderwijs; gegradueerde ': 'College',\n",
    " 'Secundair na secundair (Se-n-Se)': 'Secunday education',\n",
    " 'Bezig met bachelor opleiding vroedkunde': 'Secondary education',\n",
    " 'BanaBa': 'College',\n",
    " 'zit in mijn 1ste jaar bachelor aan de hogeschool ': 'Secondary education',\n",
    " 'bezig ad hbo5 opleiding': 'Secondary education',\n",
    " 'getuigschrift 6e middelbaar BSO': 'Secundary education',\n",
    " 'Se-n-Se': 'Secundary education',\n",
    " 'Ga nog naar school': None,\n",
    " 'graduaat ': 'College',\n",
    " 'Hogeschool ': 'College',\n",
    " 'HBO verpleegkunde': 'College',\n",
    " 'Havo': 'College',\n",
    " '2 de graad secundair tso': 'Primary education',\n",
    " 'leercontract': None,\n",
    " 'Secundair onderwijs door volwassenenonderwijs + certificaat webdesigner': 'Secundary education',\n",
    " 'VWO': 'Secondary education',\n",
    " 'BSO + 7e specialisatie=A2': 'Secondary education',\n",
    " 'Diploma SLO opleiding ': 'College',\n",
    " 'Ma na Ma': 'University',\n",
    " '7de jaar zorgkundige ': 'Secondary education',\n",
    " 'Hbo5 ': 'College',\n",
    " 'Mbo': 'Secondary education',\n",
    " 'Volwassenonderwijs lerarendiploma ': 'College',\n",
    " 'Graduaat ': 'College',\n",
    " 'Hoger beroeps onderswijs': 'College',\n",
    " 'Avondschool': None,\n",
    " 'master na master': 'University',\n",
    " 'Specialisatie 7e jaar na 6 jaar TSO': 'Secondary education',\n",
    " 'Getuigschrift ': None,\n",
    " 'Volwassenonderwijs ': None,\n",
    " 'Hoger onderwijs van het korte type voor sociale promotie (hoktsp) Hoger onderwijs voor ': 'College',\n",
    " 'HBO master': 'College',\n",
    " 'Hoger beroeps onderwijs a2 verpleegkundige ': 'Seconday education',\n",
    " 'Hoger onderwijs: Graduaat': 'College',\n",
    " 'Hogeschoolcertificaat': 'College',\n",
    " 'A2 verpleging ': 'Secondary education',\n",
    " 'Hogeschool: bachelor & bachelor-na-bachelor': 'College',\n",
    " 'MBO 4 Nederlands onderwijs': 'Secondary education',\n",
    " 'HBO5 + SLO': 'College',\n",
    " 'Volwassenonderwijs bedrijfsbeheer ': None,\n",
    " 'MBO niv. 4': 'Secondary education',\n",
    " 'Slo opleiding ': 'College',\n",
    " 'graduaat': 'College',\n",
    " 'Avondonderwijs': None,\n",
    " 'postgraduaat': 'College',\n",
    " 'Secundair diploma Amerika': 'Secondary education',\n",
    " 'professionele master': 'College',\n",
    " 'ManaMa': 'University',\n",
    " 'Nederlandse opleiding MBO 4 juridisch medewerker ': 'College',\n",
    " 'Master + banaba + postgraduaat': 'College',\n",
    " 'Master-na-master (business school)': 'University',\n",
    " 'Middelbare school kader Vmbo (Nederland)': 'Secondary education',\n",
    " 'HBO graduaat verzekeringen + PCP statuut behaald via Febelfin (Overheid)': 'College',\n",
    " 'Mbo 3': 'Secondary education',\n",
    " 'Middelbaar beroeps onderwijs': 'Secondary education',\n",
    " 'mbo': 'Secundary education',\n",
    " 'Graduaat (HBO5)': 'College',\n",
    " 'Hoger secundair, HBO5 verpleegkunde': 'College',\n",
    " 'attest BUSO': 'Secondary education',\n",
    " 'SNIT EN NAAD': 'Secondary education',\n",
    " 'Bachelor,  korte type ': 'College',\n",
    " 'Post-Graduaat': 'College',\n",
    " 'GPB: lerarenopleiding ': 'College'\n",
    "}\n",
    "\n",
    "def c(row):\n",
    "    main = row['Q1.Q18.[Wat is het hoogste diploma dat je behaalde? - Selected Choice]']\n",
    "    other = row['Q1.Q18_9_TEXT.[Wat is het hoogste diploma dat je behaalde? - Andere - Tekst]']\n",
    "\n",
    "    return map_main.get(main, map_other.get(other, None))\n",
    "\n",
    "#edef\n",
    "\n",
    "QC['General.Highest.Education'] = Qraw.apply(c, axis=1)"
   ]
  },
  {
   "cell_type": "code",
   "execution_count": 45,
   "id": "6eb4b411-0fed-4dff-9a2b-522e6eb1a986",
   "metadata": {},
   "outputs": [
    {
     "name": "stdout",
     "output_type": "stream",
     "text": [
      "General.Highest.Education.University\n",
      "General.Highest.Education.College\n",
      "General.Highest.Education.Secondaryeducation\n",
      "General.Highest.Education.PhD\n"
     ]
    }
   ],
   "source": [
    "for l in set(QC['General.Highest.Education']):\n",
    "    if l not in ['PhD', 'Secondary education', 'College', 'University']:\n",
    "        continue\n",
    "    #fi\n",
    "    QC['General.Highest.Education.%s' % l.replace(' ','')] = QC['General.Highest.Education'].apply(lambda x: None if pd.isna(x) else x == l)\n",
    "    print('General.Highest.Education.%s' % l.replace(' ',''))\n",
    "#efor"
   ]
  },
  {
   "cell_type": "markdown",
   "id": "6ad5875d-54d0-4c40-b76f-d1cd560f5842",
   "metadata": {},
   "source": [
    "## Health"
   ]
  },
  {
   "cell_type": "markdown",
   "id": "7f3a7280-8ae7-4212-a2c9-58a205f784b9",
   "metadata": {},
   "source": [
    "### BMI"
   ]
  },
  {
   "cell_type": "code",
   "execution_count": 21,
   "id": "29b697eb-64c8-4e82-aa3c-627c5fb90cd5",
   "metadata": {},
   "outputs": [],
   "source": [
    "#BMI\n",
    "\n",
    "QC['Health.BMI'] = QC['General.Weight']/((QC['General.Height']/100)**2)"
   ]
  },
  {
   "cell_type": "markdown",
   "id": "38819848-a235-4d16-9c5b-2fd46fa8379a",
   "metadata": {},
   "source": [
    "### General health"
   ]
  },
  {
   "cell_type": "code",
   "execution_count": 22,
   "id": "deb9bcaa-7b58-49bd-9f59-0ba1eaeb437d",
   "metadata": {},
   "outputs": [],
   "source": [
    "#Binary variable\n",
    "def clean_generalhealth(val):\n",
    "    if pd.isna(val) or val == '':\n",
    "        return None\n",
    "    else :\n",
    "        return val in ['Goed', 'Zeer goed']\n",
    "    #fi\n",
    "#edef\n",
    "\n",
    "\n",
    "QC['Health.General.Q1.Good'] = Qraw['Q1.Q34.[Hoe beoordeel je je algemene\\ngezondheidstoestand?]'].apply(clean_generalhealth)\n"
   ]
  },
  {
   "cell_type": "code",
   "execution_count": 48,
   "id": "98281d48-ac07-4b39-ace9-2fa3a9a4911a",
   "metadata": {},
   "outputs": [],
   "source": [
    "#Dummy variables\n",
    "\n",
    "##Zeer goed\n",
    "def clean_generalhealth_zeergoed(val):\n",
    "    if pd.isna(val) or val == '':\n",
    "        return None\n",
    "    else :\n",
    "        return val == 'Zeer goed'\n",
    "    #fi\n",
    "#edef\n",
    "QC['Health.General.Q1.VeryGood'] = Qraw['Q1.Q34.[Hoe beoordeel je je algemene\\ngezondheidstoestand?]'].apply(clean_generalhealth_zeergoed)\n",
    "\n",
    "##Goed\n",
    "def clean_generalhealth_goed(val):\n",
    "    if pd.isna(val) or val == '':\n",
    "        return None\n",
    "    else :\n",
    "        return val == 'Goed'\n",
    "    #fi\n",
    "#edef\n",
    "QC['Health.General.Q1.Good'] = Qraw['Q1.Q34.[Hoe beoordeel je je algemene\\ngezondheidstoestand?]'].apply(clean_generalhealth_goed)\n",
    "\n",
    "##Redelijk\n",
    "def clean_generalhealth_redelijk(val):\n",
    "    if pd.isna(val) or val == '':\n",
    "        return None\n",
    "    else :\n",
    "        return val == 'Redelijk'\n",
    "    #fi\n",
    "#edef\n",
    "QC['Health.General.Q1.Acceptable'] = Qraw['Q1.Q34.[Hoe beoordeel je je algemene\\ngezondheidstoestand?]'].apply(clean_generalhealth_redelijk)\n",
    "\n",
    "##Slecht/zeer slecht\n",
    "def clean_generalhealth_slecht(val):\n",
    "    if pd.isna(val) or val == '':\n",
    "        return None\n",
    "    else :\n",
    "        return val == 'Slecht' or val == 'Zeer slecht'\n",
    "    #fi\n",
    "#edef\n",
    "QC['Health.General.Q1.Bad'] = Qraw['Q1.Q34.[Hoe beoordeel je je algemene\\ngezondheidstoestand?]'].apply(clean_generalhealth_slecht)\n"
   ]
  },
  {
   "cell_type": "markdown",
   "id": "6a9e04b6-52e6-49a7-9f32-eea96ee6ab37",
   "metadata": {},
   "source": [
    "### Excessive sweating\n"
   ]
  },
  {
   "cell_type": "code",
   "execution_count": 49,
   "id": "9c210609-6dbd-4bc5-a5a0-9bcb4e2fff18",
   "metadata": {},
   "outputs": [],
   "source": [
    "def clean_sweating(val):\n",
    "    if pd.isna(val) or val == '':\n",
    "        return None\n",
    "    else :\n",
    "        return val == 'Ja'\n",
    "    #fi\n",
    "#edef\n",
    "\n",
    "QC['Health.Sweating.Excessive'] = Qraw['Q1.Q68.[Heb jij last van overmatig zweten?]'].apply(clean_sweating)"
   ]
  },
  {
   "cell_type": "markdown",
   "id": "00ab8a0b-0d5f-4a4c-a8d9-e26488337d6b",
   "metadata": {},
   "source": [
    "### Medication"
   ]
  },
  {
   "cell_type": "code",
   "execution_count": 50,
   "id": "46782ad0-359d-4be9-8251-51937e24b232",
   "metadata": {
    "scrolled": true
   },
   "outputs": [],
   "source": [
    "possible_meds = {\n",
    "    \"Birthcontrol pill\" : [\"Anticonceptie\", \"Anticonceptiepil\"],\n",
    "    \"ibuprofen\" : ['ibbuprofen', \"Ibuprofen\", \"Neurofen\"],\n",
    "    \"Menopause.HRT\" : ['Oestradiol gel', 'Hormonen menopauze', 'Oestrogel', 'oestrogel', 'Progebel', 'Progynova', 'Femoston', 'femoston', 'femeston', 'Aaceefemine', 'Aecefemine', 'Gynoflor', 'Angeliq', 'Heria', 'Livial' ],\n",
    "    \"Menopause.Other\" : ['Gynoflor', 'donnafyta premens', 'Donnafyta Premens']\n",
    "}\n",
    "\n",
    "def flatten(lst, dropna=False):\n",
    "    return [ v for l in lst for v in l if not (dropna & pd.isna(v)) ]\n",
    "#edef\n",
    "\n",
    "rel_cols = [ c for c in Qraw.columns if ('Q1.Q42' in c) and ('Naam' in c) ]\n",
    "\n",
    "sorted(list(freq([ v.strip() for v in flatten(Qraw[rel_cols].values, True) if v != '']).items()), key=lambda x:x[0])\n",
    "\n",
    "def _clean_meds(row, values):\n",
    "    row_values = set([ v.strip() for v in row[rel_cols] if not pd.isna(v) ])\n",
    "\n",
    "    return len(row_values & values) > 0\n",
    "#edef\n",
    "\n",
    "## Menopause.HRT\n",
    "for med in possible_meds:\n",
    "    QC[\"Health.Medication.%s\" % med] = Qraw[rel_cols].apply(lambda row:_clean_meds(row, set(possible_meds[\"Menopause.HRT\"])), axis = 1)\n",
    "#efor\n",
    "\n",
    "## Menopause.Other\n",
    "for med in possible_meds:\n",
    "    QC[\"Health.Medication.%s\" % med] = Qraw[rel_cols].apply(lambda row:_clean_meds(row, set(possible_meds[\"Menopause.Other\"])), axis = 1)\n",
    "#efor"
   ]
  },
  {
   "cell_type": "markdown",
   "id": "f500104c-7b3f-489a-b257-c985f47187b0",
   "metadata": {},
   "source": [
    "## Sexual"
   ]
  },
  {
   "cell_type": "markdown",
   "id": "f090ead9-0fae-405c-8d42-adfb09e626b5",
   "metadata": {},
   "source": [
    "### Intercourse 3 months"
   ]
  },
  {
   "cell_type": "code",
   "execution_count": 51,
   "id": "4434c62c-ce07-444d-a593-22134fc5b9a1",
   "metadata": {},
   "outputs": [],
   "source": [
    "# Penis\n",
    "QC['Sexual.Penetration.Penis.3months'] = Qraw['Q1.Q47.2_4.[Welke seksuele handelingen heb je ontvangen in de afgelopen drie maanden? (meerdere antwoorden mogelijk) - Selected Choice - Vaginale penetratie met penis]'].apply(\n",
    "    lambda x: None if pd.isna(x) else x not in [''])\n",
    "# Fingers\n",
    "QC['Sexual.Penetration.Fingers.3months'] = Qraw['Q1.Q47.2_3.[Welke seksuele handelingen heb je ontvangen in de afgelopen drie maanden? (meerdere antwoorden mogelijk) - Selected Choice - Vaginale penetratie met vingers]'].apply(\n",
    "    lambda x: None if pd.isna(x) else x not in [''])\n",
    "# Toy\n",
    "QC['Sexual.Penetration.Toy.3months'] = Qraw['Q1.Q47.2_5.[Welke seksuele handelingen heb je ontvangen in de afgelopen drie maanden? (meerdere antwoorden mogelijk) - Selected Choice - Vaginale penetratie met speeltjes]'].apply(\n",
    "    lambda x: None if pd.isna(x) else x not in [''])\n",
    "# Other\n",
    "QC['Sexual.Penetration.Other.3months'] = Qraw['Q1.Q47.2_6.[Welke seksuele handelingen heb je ontvangen in de afgelopen drie maanden? (meerdere antwoorden mogelijk) - Selected Choice - Vaginale penetratie met andere:]'].apply(\n",
    "    lambda x: None if pd.isna(x) else x not in [''])\n",
    "\n",
    "# Penetration general\n",
    "QC['Sexual.Penetration.3months'] = QC.apply(\n",
    "    lambda x: None if any(pd.isna(x[['Sexual.Penetration.Penis.3months','Sexual.Penetration.Fingers.3months', 'Sexual.Penetration.Toy.3months', 'Sexual.Penetration.Other.3months']])) else not(x['Sexual.Penetration.Penis.3months'] or x['Sexual.Penetration.Fingers.3months'] or x['Sexual.Penetration.Toy.3months'] or x['Sexual.Penetration.Other.3months']), axis=1)\n"
   ]
  },
  {
   "cell_type": "markdown",
   "id": "32973d67-a44f-43f0-87b5-161e85bb1eb6",
   "metadata": {},
   "source": [
    "### Intercourse 24h"
   ]
  },
  {
   "cell_type": "code",
   "execution_count": 52,
   "id": "dd69c66a-500f-4951-ac81-c3ecc6083685",
   "metadata": {},
   "outputs": [],
   "source": [
    "# Penis\n",
    "QC['Sexual.Penetration.Penis.24h'] = Qraw['Q2.Q23_4.[Heb je de afgelopen 24 uur de volgende seksuele handelingen ontvangen of bij jezelf uitgevoerd (masturbatie)? (Meerdere antwoorden mogelijk) - Selected Choice - Vaginale penetratie met penis]'].apply(\n",
    "    lambda x: None if pd.isna(x) else x not in [''])\n",
    "# Fingers\n",
    "QC['Sexual.Penetration.Fingers.24h'] = Qraw['Q2.Q23_3.[Heb je de afgelopen 24 uur de volgende seksuele handelingen ontvangen of bij jezelf uitgevoerd (masturbatie)? (Meerdere antwoorden mogelijk) - Selected Choice - Vaginale penetratie met vingers]'].apply(\n",
    "    lambda x: None if pd.isna(x) else x not in [''])\n",
    "# Toy\n",
    "QC['Sexual.Penetration.Toy.24h'] = Qraw['Q2.Q23_5.[Heb je de afgelopen 24 uur de volgende seksuele handelingen ontvangen of bij jezelf uitgevoerd (masturbatie)? (Meerdere antwoorden mogelijk) - Selected Choice - Vaginale penetratie met speeltjes]'].apply(\n",
    "    lambda x: None if pd.isna(x) else x not in [''])\n",
    "# Other had one real answer, rest were none or swab so left it out\n",
    "\n",
    "# Penetration general\n",
    "QC['Sexual.Penetration.24h'] = QC.apply(\n",
    "    lambda x: None if any(pd.isna(x[['Sexual.Penetration.Penis.24h','Sexual.Penetration.Fingers.24h', 'Sexual.Penetration.Toy.24h']])) else not(x['Sexual.Penetration.Penis.24h'] or x['Sexual.Penetration.Fingers.24h'] or x['Sexual.Penetration.Toy.24h']), axis=1)\n"
   ]
  },
  {
   "cell_type": "markdown",
   "id": "5253872e-7319-4c31-a75c-97151f32c334",
   "metadata": {},
   "source": [
    "## Reproductive"
   ]
  },
  {
   "cell_type": "markdown",
   "id": "af4ae135-d548-4942-9fe9-5e8d7c39da60",
   "metadata": {},
   "source": [
    "### Menstrual cycle"
   ]
  },
  {
   "cell_type": "code",
   "execution_count": 53,
   "id": "a1d71d91-39fc-4c1e-83d8-5345971d2d83",
   "metadata": {},
   "outputs": [],
   "source": [
    "def determine_phases(row):\n",
    "    \"\"\"\n",
    "    returns\n",
    "     string\n",
    "    \"\"\"\n",
    "    cycle_disrupted = row['Q1.Q52.3.[Hoeveel dagen zijn er gemiddeld tussen de eerste dag van je menstruatie\\nen de eerste dag van je volgende? Je hoeft enkel het aantal dagen in te vullen indien je geen hormonale anticonceptie gebruikt die je cyclus kan beïnvloeden. - Selected Choice]'] == \"Ik gebruik hormonale anticonceptie of een andere hormonale behandeling die mijn menstruele cyclus kan beïnvloeden\"\n",
    "    cycle_days     = row['Q1.Q52.3_4_TEXT.[Hoeveel dagen zijn er gemiddeld tussen de eerste dag van je menstruatie\\nen de eerste dag van je volgende? Je hoeft enkel het aantal dagen in te vullen indien je geen hormonale anticonceptie gebruikt die je cyclus kan beïnvloeden. - Ik gebruik geen hormonale anticonceptie of een andere hormonale behandeling die mijn menstruele cyclus kan beïnvloeden - Tekst]']\n",
    "    current_day    = row['A.day_of_cycle']\n",
    "    \n",
    "    if cycle_disrupted:\n",
    "        return 'not_applicable'\n",
    "    #fi\n",
    "    \n",
    "    if isinstance(cycle_days, str):\n",
    "        return \"unknown\"\n",
    "    #fi\n",
    "    \n",
    "    if pd.isna(cycle_days):\n",
    "        cycle_days = 28\n",
    "    #fi\n",
    "    if pd.isna(current_day):\n",
    "        return 'unknown'\n",
    "    #fi\n",
    "    \n",
    "    if (cycle_days < 21) or (cycle_days > 35):\n",
    "        return 'unknown'\n",
    "    #fi\n",
    "    \n",
    "    if cycle_days <= 24:\n",
    "        ovulation = cycle_days - 12\n",
    "    elif cycle_days <= 31:\n",
    "        ovulation = cycle_days - 14\n",
    "    else:\n",
    "        ovulation = cycle_days - 16\n",
    "    #fi\n",
    "    \n",
    "    if current_day <= (ovulation-6):\n",
    "        return 'Follicular'\n",
    "    elif current_day <= (ovulation+2):\n",
    "        return 'Ovulation'\n",
    "    else:\n",
    "        return 'Luteal'\n",
    "    #fi\n",
    "    \n",
    "    return 'unknown'\n",
    "#edef\n",
    "\n",
    "phase = Qraw.apply(determine_phases, axis=1)\n",
    "\n",
    "\n",
    "\n",
    "col_values = ['Luteal', 'Ovulation', 'Follicular']\n",
    "for cv in col_values:\n",
    "    QC['Reproductive.Cycle.Phase.%s' % cv] = phase.apply(lambda x: True if x == cv else None if x not in col_values else False)\n",
    "#efor\n"
   ]
  },
  {
   "cell_type": "markdown",
   "id": "a3a7b1d5-ca51-4dca-b586-0a03d501864a",
   "metadata": {},
   "source": [
    "### Menopause"
   ]
  },
  {
   "cell_type": "code",
   "execution_count": 54,
   "id": "125f98fc-8a5e-451e-9f2b-d5e5901b74d3",
   "metadata": {},
   "outputs": [
    {
     "data": {
      "text/plain": [
       "{None: 1325,\n",
       " 'Ik heb geen/nooit maandelijkse bloedingen': 131,\n",
       " '': 2692,\n",
       " 'Andere': 773,\n",
       " 'Ik neem mijn hormonale anticonceptie door': 568,\n",
       " 'Ik heb geen maandelijkse bloedingen na mijn bevalling': 54,\n",
       " 'Ik ben in mijn overgangsperiode (periode net voor menopauze)': 48,\n",
       " 'Ik ben in mijn menopauze': 171,\n",
       " 'Ik weet het niet': 245}"
      ]
     },
     "execution_count": 54,
     "metadata": {},
     "output_type": "execute_result"
    }
   ],
   "source": [
    "\n",
    "#QC['Reproductive.PeriMenopause'] = Qraw['Q1.Q52.2.[Heeft dit te maken met één van de onderstaande mogelijkheden? - Selected Choice]'].apply(lambda x: str(x).lower() in ['c','d'])\n",
    "\n",
    "## Menopause\n",
    "\n",
    "freq(Qraw['Q1.Q52.2.[Heeft dit te maken met één van de onderstaande mogelijkheden? - Selected Choice]'])\n",
    "\n",
    "def clean_menopause (val):\n",
    "    if pd.isna(val):\n",
    "        return None\n",
    "    else :\n",
    "        return 'Ik ben in mijn menopauze' in val\n",
    "    #fi\n",
    "\n",
    "QC['Reproductive.Menopause'] = Qraw['Q1.Q52.2.[Heeft dit te maken met één van de onderstaande mogelijkheden? - Selected Choice]'].apply(clean_menopause)\n",
    "\n",
    "freq(QC['Reproductive.Menopause'])\n",
    "freq(Qraw['Q1.Q52.2.[Heeft dit te maken met één van de onderstaande mogelijkheden? - Selected Choice]'])"
   ]
  },
  {
   "cell_type": "code",
   "execution_count": 55,
   "id": "963b233c-b926-4a84-b797-0165ac14b20d",
   "metadata": {},
   "outputs": [],
   "source": [
    "## Perimenopause\n",
    "\n",
    "freq(Qraw['Q1.Q52.2.[Heeft dit te maken met één van de onderstaande mogelijkheden? - Selected Choice]'])\n",
    "\n",
    "def clean_perimenopause (val):\n",
    "    if pd.isna(val):\n",
    "        return None\n",
    "    else :\n",
    "        return 'Ik ben in mijn overgangsperiode (periode net voor menopauze)' in val\n",
    "    #fi\n",
    "\n",
    "QC['Reproductive.Perimenopause'] = Qraw['Q1.Q52.2.[Heeft dit te maken met één van de onderstaande mogelijkheden? - Selected Choice]'].apply(clean_perimenopause)\n"
   ]
  },
  {
   "cell_type": "code",
   "execution_count": 56,
   "id": "b78217f6-c542-42da-a56e-1b91506248f8",
   "metadata": {},
   "outputs": [
    {
     "data": {
      "text/plain": [
       "{None: 1325, False: 4463, True: 219}"
      ]
     },
     "execution_count": 56,
     "metadata": {},
     "output_type": "execute_result"
    }
   ],
   "source": [
    "## Peripostmenopause\n",
    "\n",
    "def clean_peripostmenopause (val):\n",
    "    if pd.isna(val):\n",
    "        return None\n",
    "    else :\n",
    "        return 'menopauze' in val\n",
    "    #fi\n",
    "\n",
    "QC['Reproductive.Peripostmenopause'] = Qraw['Q1.Q52.2.[Heeft dit te maken met één van de onderstaande mogelijkheden? - Selected Choice]'].apply(clean_peripostmenopause)\n",
    "freq(QC['Reproductive.Peripostmenopause'])"
   ]
  },
  {
   "cell_type": "markdown",
   "id": "82e304b4-9d69-419e-8f64-858aeff58a60",
   "metadata": {},
   "source": [
    "### Miscarriages, abortion, pretermbirth"
   ]
  },
  {
   "cell_type": "code",
   "execution_count": 57,
   "id": "410e364d-0063-4182-8ed3-f3e7603811fe",
   "metadata": {},
   "outputs": [
    {
     "name": "stderr",
     "output_type": "stream",
     "text": [
      "C:\\Users\\LUCP12511\\AppData\\Local\\Temp\\ipykernel_18568\\1108683355.py:6: FutureWarning: DataFrame.applymap has been deprecated. Use DataFrame.map instead.\n",
      "  QC['Reproductive.Pregnancy.%s' % rtype] = _rel.applymap(lambda x: x in rvalues).any(axis=1)\n",
      "C:\\Users\\LUCP12511\\AppData\\Local\\Temp\\ipykernel_18568\\1108683355.py:6: FutureWarning: DataFrame.applymap has been deprecated. Use DataFrame.map instead.\n",
      "  QC['Reproductive.Pregnancy.%s' % rtype] = _rel.applymap(lambda x: x in rvalues).any(axis=1)\n",
      "C:\\Users\\LUCP12511\\AppData\\Local\\Temp\\ipykernel_18568\\1108683355.py:6: FutureWarning: DataFrame.applymap has been deprecated. Use DataFrame.map instead.\n",
      "  QC['Reproductive.Pregnancy.%s' % rtype] = _rel.applymap(lambda x: x in rvalues).any(axis=1)\n"
     ]
    }
   ],
   "source": [
    "_rel = Qraw[[c for c in Qraw if 'uitgedragen' in c]]\n",
    "\n",
    "for rtype, rvalues in {'Miscarriage': ['Nee afgebroken, miskraam met medicatie', 'Nee afgebroken, spontane miskraam', 'Nee afgebroken, curettage miskraam'],\n",
    "                      'PretermBirth': ['Nee, vroeggeboorte'],\n",
    "                      'Abortion': ['Nee afgebroken, abortus']}.items():\n",
    "    QC['Reproductive.Pregnancy.%s' % rtype] = _rel.applymap(lambda x: x in rvalues).any(axis=1)\n",
    "#efor"
   ]
  },
  {
   "cell_type": "markdown",
   "id": "1de15f36-f699-4e98-b7b8-628803971188",
   "metadata": {},
   "source": [
    "### Pregnancy attempted"
   ]
  },
  {
   "cell_type": "code",
   "execution_count": 58,
   "id": "8d4b17e7-43de-4b67-b402-a56d0f0fa25f",
   "metadata": {},
   "outputs": [],
   "source": [
    "QC['Reproductive.Pregnancy.Attempted'] = Qraw['Q1.Q49.[Heb je ooit actief geprobeerd om zwanger te worden?]'].apply(\n",
    "    lambda x: None if pd.isna(x) else x == 'Ja')"
   ]
  },
  {
   "cell_type": "markdown",
   "id": "d4f7c252-147c-4a83-a0d6-b2cc0f3fbedd",
   "metadata": {},
   "source": [
    "### Breastfeeding"
   ]
  },
  {
   "cell_type": "code",
   "execution_count": 59,
   "id": "b5588cbd-e80f-4625-b0e8-8233e7db873e",
   "metadata": {},
   "outputs": [],
   "source": [
    "\n",
    "QC['Reproductive.Breastfeeding'] = Qraw['Q2.Q24.[Geef je op dit moment borstvoeding?]'].apply(\n",
    "    lambda x: None if pd.isna(x) else x == 'Ja')"
   ]
  },
  {
   "cell_type": "markdown",
   "id": "d423326e-c0fc-4a10-b876-c0b2ee5bb92e",
   "metadata": {},
   "source": [
    "### Number of biological children"
   ]
  },
  {
   "cell_type": "code",
   "execution_count": 60,
   "id": "c41d5b13-ce5b-4ce1-9ebc-2d178215fb4e",
   "metadata": {},
   "outputs": [],
   "source": [
    "\n",
    "def clean_nchildbio(val):\n",
    "    if pd.isna(val):\n",
    "        return None\n",
    "    elif val == '':\n",
    "        return 0\n",
    "    elif str(val).isnumeric():\n",
    "        return int(val)\n",
    "    else:\n",
    "        return None\n",
    "    #fi\n",
    "#edef\n",
    "\n",
    "QC['Reproductive.Children.n.biological'] = Qraw[\"Q1.Q6_1_TEXT.[Heb je kinderen? (Meerdere antwoorden mogelijk) - Biologische kinderen: hoeveel? - Tekst]\"].apply(clean_nchildbio)"
   ]
  },
  {
   "cell_type": "markdown",
   "id": "07cd0582-207e-4253-95e9-1cfa3070f006",
   "metadata": {},
   "source": [
    "### Number of pregnancies"
   ]
  },
  {
   "cell_type": "code",
   "execution_count": 61,
   "id": "cd87e73d-cbc4-47a0-bf78-616b28431847",
   "metadata": {},
   "outputs": [],
   "source": [
    "def clean_npreg(val):\n",
    "    if pd.isna(val):\n",
    "        return None\n",
    "    elif str(val).isnumeric():\n",
    "        return int(val)\n",
    "    else:\n",
    "        return None\n",
    "    #fi\n",
    "#edef\n",
    "\n",
    "QC['Reproductive.Pregnancy.n'] = Qraw[\"Q1.Q50.[Hoeveel keer was je al zwanger?]\"].apply(clean_npreg)"
   ]
  },
  {
   "cell_type": "markdown",
   "id": "aff09fc8-4913-447f-8856-66ddc3e3b2e8",
   "metadata": {},
   "source": [
    "### Early menopause"
   ]
  },
  {
   "cell_type": "code",
   "execution_count": 62,
   "id": "e1e530ea-f685-4568-a900-73c6268c966c",
   "metadata": {},
   "outputs": [],
   "source": [
    "\n",
    "def clean_earlymenopause(val):\n",
    "    if pd.isna(val):\n",
    "        return None\n",
    "    else:\n",
    "        return 'menopauze' in val\n",
    "    #fi\n",
    "#edef\n",
    "\n",
    "QC['Reproductive.PeriMenopause.Early'] = Qraw['Q1.Q37_9_TEXT.[Heb je één van onderstaande aandoeningen? (Graag de aandoening\\nvermelden) (meerdere antwoorden mogelijk) - Voortplantingsstelsel, vb. endometriose - Tekst]'].apply(clean_earlymenopause)"
   ]
  },
  {
   "cell_type": "markdown",
   "id": "258899f0-32d5-47a9-9a38-bb5bfe311d7b",
   "metadata": {},
   "source": [
    "### Date and time since last menstruation"
   ]
  },
  {
   "cell_type": "code",
   "execution_count": 63,
   "id": "01e5ec6f-9cac-4ed7-a5b0-1a8c41905a65",
   "metadata": {},
   "outputs": [],
   "source": [
    "from datetime import datetime\n",
    "\n",
    "# Date of sample: 'A.Sample date'\n",
    "\n",
    "def clean_datelastcycle (row):\n",
    "    if pd.isna(row['Q2.Q28_7_TEXT.[Wanneer was de eerste dag van je laatste menstruatie? - De eerste dag van mijn laatste menstruatie was (dd/mm/jjjj): - tekst]']):\n",
    "        return None\n",
    "    elif ' ' in row['Q2.Q28_7_TEXT.[Wanneer was de eerste dag van je laatste menstruatie? - De eerste dag van mijn laatste menstruatie was (dd/mm/jjjj): - tekst]']:\n",
    "        return None\n",
    "    elif '.' in row['Q2.Q28_7_TEXT.[Wanneer was de eerste dag van je laatste menstruatie? - De eerste dag van mijn laatste menstruatie was (dd/mm/jjjj): - tekst]']:\n",
    "        return None\n",
    "    elif '/' in row['Q2.Q28_7_TEXT.[Wanneer was de eerste dag van je laatste menstruatie? - De eerste dag van mijn laatste menstruatie was (dd/mm/jjjj): - tekst]']:\n",
    "        #t = datetime.timestamp(datetime.strptime(row['Q2.Q28_7_TEXT.[Wanneer was de eerste dag van je laatste menstruatie? - De eerste dag van mijn laatste menstruatie was (dd/mm/jjjj): - tekst]'], \"%d/%m/%Y\"))\n",
    "        return datetime.strptime(row['Q2.Q28_7_TEXT.[Wanneer was de eerste dag van je laatste menstruatie? - De eerste dag van mijn laatste menstruatie was (dd/mm/jjjj): - tekst]'], \"%d/%m/%Y\")\n",
    "    else:\n",
    "        return None\n",
    "    #fi\n",
    "#edef\n",
    "\n",
    "QC['Reproductive.Date.Last.Menstruation'] = Qraw.apply(clean_datelastcycle, axis = 1)\n",
    "\n",
    "QC['Reproductive.Days.Since.Menstruation'] = pd.to_datetime(Qraw['A.Arrival date'])-pd.to_datetime(QC['Reproductive.Date.Last.Menstruation'])\n"
   ]
  },
  {
   "cell_type": "markdown",
   "id": "7eb8f455-5dcd-4c4c-84b7-386d30868b13",
   "metadata": {},
   "source": [
    "### Hormonal contraception"
   ]
  },
  {
   "cell_type": "code",
   "execution_count": 64,
   "id": "52910d77-3d25-4cc8-8ce2-05ecd002a0f6",
   "metadata": {},
   "outputs": [],
   "source": [
    "## 3 months\n",
    "\n",
    "# contraceptive pill\n",
    "QC['Reproductive.Contraception.Hormonal.Combinationpill.3months'] = Qraw['Q1.Q51_1.[Welke middelden heb je in de afgelopen drie maanden gebruikt om niet\\nzwanger te worden? Gelieve ook het merk te geven. (Meerdere antwoorden mogelijk) - Selected Choice - Anticonceptiepil:]'].apply(\n",
    "    lambda x: None if pd.isna(x) else x not in [''])\n",
    "# Progestogen-only pill\n",
    "QC['Reproductive.Contraception.Hormonal.Progestagonpill.3months'] = Qraw['Q1.Q51_2.[Welke middelden heb je in de afgelopen drie maanden gebruikt om niet\\nzwanger te worden? Gelieve ook het merk te geven. (Meerdere antwoorden mogelijk) - Selected Choice - Minipil:]'].apply(\n",
    "    lambda x: None if pd.isna(x) else x not in [''])\n",
    "# Injection\n",
    "QC['Reproductive.Contraception.Hormonal.Injection.3months'] = Qraw['Q1.Q51_3.[Welke middelden heb je in de afgelopen drie maanden gebruikt om niet\\nzwanger te worden? Gelieve ook het merk te geven. (Meerdere antwoorden mogelijk) - Selected Choice - Prikpil:]'].apply(\n",
    "    lambda x: None if pd.isna(x) else x not in [''])\n",
    "# Patch\n",
    "QC['Reproductive.Contraception.Hormonal.Patch.3months'] = Qraw['Q1.Q51_4.[Welke middelden heb je in de afgelopen drie maanden gebruikt om niet\\nzwanger te worden? Gelieve ook het merk te geven. (Meerdere antwoorden mogelijk) - Selected Choice - Anticonceptiepleister (bv. Evra):]'].apply(\n",
    "    lambda x: None if pd.isna(x) else x not in [''])\n",
    "# Ring\n",
    "QC['Reproductive.Contraception.Hormonal.Ring.3months'] = Qraw['Q1.Q51_5.[Welke middelden heb je in de afgelopen drie maanden gebruikt om niet\\nzwanger te worden? Gelieve ook het merk te geven. (Meerdere antwoorden mogelijk) - Selected Choice - Anticonceptiering (bv. Nuvaring):]'].apply(\n",
    "    lambda x: None if pd.isna(x) else x not in [''])\n",
    "# Implant\n",
    "QC['Reproductive.Contraception.Hormonal.Implant.3months'] = Qraw['Q1.Q51_6.[Welke middelden heb je in de afgelopen drie maanden gebruikt om niet\\nzwanger te worden? Gelieve ook het merk te geven. (Meerdere antwoorden mogelijk) - Selected Choice - Hormonaal implantaat (bv. Implanon):]'].apply(\n",
    "    lambda x: None if pd.isna(x) else x not in [''])\n",
    "# IUD\n",
    "QC['Reproductive.Contraception.Hormonal.IUD.3months'] = Qraw['Q1.Q51_7.[Welke middelden heb je in de afgelopen drie maanden gebruikt om niet\\nzwanger te worden? Gelieve ook het merk te geven. (Meerdere antwoorden mogelijk) - Selected Choice - Hormoonspiraal (bv. Mirena):]'].apply(\n",
    "    lambda x: None if pd.isna(x) else x not in [''])\n",
    "\n",
    "# Birthcontrol general\n",
    "QC['Reproductive.Contraception.Hormonal.3months'] = QC.apply(\n",
    "    lambda x: None if any(pd.isna(x[['Reproductive.Contraception.Hormonal.Combinationpill.3months','Reproductive.Contraception.Hormonal.Progestagonpill.3months', 'Reproductive.Contraception.Hormonal.Injection.3months', 'Reproductive.Contraception.Hormonal.Patch.3months', 'Reproductive.Contraception.Hormonal.Ring.3months', 'Reproductive.Contraception.Hormonal.Implant.3months', 'Reproductive.Contraception.Hormonal.IUD.3months']])) \n",
    "    else not(x['Reproductive.Contraception.Hormonal.Combinationpill.3months'] or x['Reproductive.Contraception.Hormonal.Progestagonpill.3months'] or x['Reproductive.Contraception.Hormonal.Injection.3months'] or x['Reproductive.Contraception.Hormonal.Patch.3months'] or x['Reproductive.Contraception.Hormonal.Ring.3months'] or x['Reproductive.Contraception.Hormonal.Implant.3months'] or x['Reproductive.Contraception.Hormonal.IUD.3months']), axis=1)\n"
   ]
  },
  {
   "cell_type": "code",
   "execution_count": 65,
   "id": "d36edd15-0cf0-416a-a208-380ccdd5e93d",
   "metadata": {},
   "outputs": [],
   "source": [
    "## 1 month\n",
    "\n",
    "# contraceptive pill\n",
    "QC['Reproductive.Contraception.Hormonal.Combinationpill.1month'] = Qraw['Q2.Q25_1.[Welke middelden heb je in de afgelopen maand gebruikt om niet\\nzwanger te worden? Gelieve ook het merk te geven. (Meerdere antwoorden mogelijk) - Selected Choice - Anticonceptiepil:]'].apply(\n",
    "    lambda x: None if pd.isna(x) else x not in [''])\n",
    "# Progestogen-only pill\n",
    "QC['Reproductive.Contraception.Hormonal.Progestagonpill.1month'] = Qraw['Q2.Q25_2.[Welke middelden heb je in de afgelopen maand gebruikt om niet\\nzwanger te worden? Gelieve ook het merk te geven. (Meerdere antwoorden mogelijk) - Selected Choice - Minipil:]'].apply(\n",
    "    lambda x: None if pd.isna(x) else x not in [''])\n",
    "# Injection\n",
    "QC['Reproductive.Contraception.Hormonal.Injection.1month'] = Qraw['Q2.Q25_3.[Welke middelden heb je in de afgelopen maand gebruikt om niet\\nzwanger te worden? Gelieve ook het merk te geven. (Meerdere antwoorden mogelijk) - Selected Choice - Prikpil:]'].apply(\n",
    "    lambda x: None if pd.isna(x) else x not in [''])\n",
    "# Patch\n",
    "QC['Reproductive.Contraception.Hormonal.Patch.1month'] = Qraw['Q2.Q25_4.[Welke middelden heb je in de afgelopen maand gebruikt om niet\\nzwanger te worden? Gelieve ook het merk te geven. (Meerdere antwoorden mogelijk) - Selected Choice - Anticonceptiepleister (bv. Evra):]'].apply(\n",
    "    lambda x: None if pd.isna(x) else x not in [''])\n",
    "# Ring\n",
    "QC['Reproductive.Contraception.Hormonal.Ring.1month'] = Qraw['Q2.Q25_5.[Welke middelden heb je in de afgelopen maand gebruikt om niet\\nzwanger te worden? Gelieve ook het merk te geven. (Meerdere antwoorden mogelijk) - Selected Choice - Anticonceptiering (bv. Nuvaring):]'].apply(\n",
    "    lambda x: None if pd.isna(x) else x not in [''])\n",
    "# Implant\n",
    "QC['Reproductive.Contraception.Hormonal.Implant.1month'] = Qraw['Q2.Q25_6.[Welke middelden heb je in de afgelopen maand gebruikt om niet\\nzwanger te worden? Gelieve ook het merk te geven. (Meerdere antwoorden mogelijk) - Selected Choice - Hormonaal implantaat (bv. Implanon):]'].apply(\n",
    "    lambda x: None if pd.isna(x) else x not in [''])\n",
    "# IUD\n",
    "QC['Reproductive.Contraception.Hormonal.IUD.1month'] = Qraw['Q2.Q25_7.[Welke middelden heb je in de afgelopen maand gebruikt om niet\\nzwanger te worden? Gelieve ook het merk te geven. (Meerdere antwoorden mogelijk) - Selected Choice - Hormoonspiraal (bv. Mirena):]'].apply(\n",
    "    lambda x: None if pd.isna(x) else x not in [''])\n",
    "\n",
    "# Birthcontrol general\n",
    "QC['Reproductive.Contraception.Hormonal.1month'] = QC.apply(\n",
    "    lambda x: None if any(pd.isna(x[['Reproductive.Contraception.Hormonal.Combinationpill.1month','Reproductive.Contraception.Hormonal.Progestagonpill.1month', 'Reproductive.Contraception.Hormonal.Injection.1month', 'Reproductive.Contraception.Hormonal.Patch.1month', 'Reproductive.Contraception.Hormonal.Ring.1month', 'Reproductive.Contraception.Hormonal.Implant.1month', 'Reproductive.Contraception.Hormonal.IUD.1month']])) \n",
    "    else not(x['Reproductive.Contraception.Hormonal.Combinationpill.1month'] or x['Reproductive.Contraception.Hormonal.Progestagonpill.1month'] or x['Reproductive.Contraception.Hormonal.Injection.1month'] or x['Reproductive.Contraception.Hormonal.Patch.1month'] or x['Reproductive.Contraception.Hormonal.Ring.1month'] or x['Reproductive.Contraception.Hormonal.Implant.1month'] or x['Reproductive.Contraception.Hormonal.IUD.1month']), axis=1)\n"
   ]
  },
  {
   "cell_type": "markdown",
   "id": "cedfce64-85a6-4066-936d-f628d267ed3f",
   "metadata": {},
   "source": [
    "### Hysterectomy"
   ]
  },
  {
   "cell_type": "code",
   "execution_count": 66,
   "id": "ccb142b7-07ca-48e2-b93b-ac1bf977847a",
   "metadata": {},
   "outputs": [
    {
     "name": "stderr",
     "output_type": "stream",
     "text": [
      "C:\\Users\\LUCP12511\\AppData\\Local\\Temp\\ipykernel_18568\\899703262.py:5: FutureWarning: DataFrame.applymap has been deprecated. Use DataFrame.map instead.\n",
      "  QC['Reproductive.Hysterectomy'] = _rel.applymap(lambda x: x in rvalues).any(axis=1)\n"
     ]
    }
   ],
   "source": [
    "\n",
    "_rel = Qraw[[c for c in Qraw if 'Heb je één van onderstaande aandoeningen?' in c]]\n",
    "\n",
    "for rtype, rvalues in {'hysterectomy': ['endometriose ,hysterectomie', 'Adenomyose (sinds mijn hysterectomy niet meer)', 'ik had adenomyose, maar mijn baarmoeder is in december 2018 verwijderd. De rest zit er nog.', 'Baarmoeder verwijderd', 'Baarmoeder eruit gehaald', 'hysterectomie', 'baarmoeder eruit hpv', 'Baarmoeder verzakking en weggenomen'],\n",
    "                      }.items():\n",
    "    QC['Reproductive.Hysterectomy'] = _rel.applymap(lambda x: x in rvalues).any(axis=1)\n",
    "#efor\n"
   ]
  },
  {
   "cell_type": "markdown",
   "id": "c84bfcc2-ba6a-4591-9397-50765639559d",
   "metadata": {},
   "source": [
    "## Vaginal"
   ]
  },
  {
   "cell_type": "markdown",
   "id": "cd1fc276-e589-43e1-8693-b958baebe7f8",
   "metadata": {},
   "source": [
    "### Symptoms"
   ]
  },
  {
   "cell_type": "code",
   "execution_count": 67,
   "id": "332e6313-09b3-4419-a134-a3495f37f8f7",
   "metadata": {},
   "outputs": [],
   "source": [
    "## Symptoms\n",
    "\n",
    "\n",
    "other_col = 'Q1.Q53_9_TEXT.[Heb je de laatste maand last gehad van één of meerdere klachten aan je vulva of vagina (meerdere antwoorden mogelijk)? Indien ja, geef ook aan hoe ernstig. - Andere: - Tekst]'\n",
    "\n",
    "other_responses = {\n",
    "    'Q1.Q53_1.[Heb je de laatste maand last gehad van één of meerdere klachten aan je vulva of vagina (meerdere antwoorden mogelijk)? Indien ja, geef ook aan hoe ernstig. - Roodheid]' : ['Uitslag', 'Irritatie door inlegkruisje', 'irritatie '],\n",
    "    'Q1.Q53_2.[Heb je de laatste maand last gehad van één of meerdere klachten aan je vulva of vagina (meerdere antwoorden mogelijk)? Indien ja, geef ook aan hoe ernstig. - Zwelling]' : ['Was een zwelling van te ruwe seks'],\n",
    "    'Q1.Q53_3.[Heb je de laatste maand last gehad van één of meerdere klachten aan je vulva of vagina (meerdere antwoorden mogelijk)? Indien ja, geef ook aan hoe ernstig. - Pijn (algemeen)]' : ['overgevoeligheid (op een niet-aangename manier)','Pijn door voorliggende zenuwen', 'Maandstondenpijn', 'Pijn na fietstochten van langer dan een uur', 'Fietspijn', 'Pijn door droogte na bevalling en lang persen voor de keizersnede', 'Soms ten gevolge van lange rit op koersfiets', 'pijn na het fietsen', 'Gevoeligheid ', 'Zeurende pijn in vagina door niersteen', 'Pijnlijke steken (soms wanneer ik lig) tussen vulva en blaas. Alsof plasbuis of schede daartussen beurs aanvoelt.'],\n",
    "    'Q1.Q53_4.[Heb je de laatste maand last gehad van één of meerdere klachten aan je vulva of vagina (meerdere antwoorden mogelijk)? Indien ja, geef ook aan hoe ernstig. - Jeuk]' : [],\n",
    "    'Q1.Q53_5.[Heb je de laatste maand last gehad van één of meerdere klachten aan je vulva of vagina (meerdere antwoorden mogelijk)? Indien ja, geef ook aan hoe ernstig. - Branderig gevoel]' : ['soms branderig gevoel na seksueel contact', 'pikkend gevoel bij aanraking', 'branderig gevoel na seksueel contact ', 'Branderig gevoel na seksueel contact', 'Droog en branderig tijdens/na sexueel contact', 'Branderig gevoel na seks'],\n",
    "    'Q1.Q53_6.[Heb je de laatste maand last gehad van één of meerdere klachten aan je vulva of vagina (meerdere antwoorden mogelijk)? Indien ja, geef ook aan hoe ernstig. - Toename in vaginale afscheiding (anders dan de normale maandelijkse afscheiding)]' : [],\n",
    "    'Q1.Q53_7.[Heb je de laatste maand last gehad van één of meerdere klachten aan je vulva of vagina (meerdere antwoorden mogelijk)? Indien ja, geef ook aan hoe ernstig. - Verandering in de vaginale afscheiding (andere kleur, onaangename geur)]' : ['verandering in tekstuur van de vaginale afscheiding', 'Meer silijmerig dan anders'],\n",
    "    'Q1.Q53_8.[Heb je de laatste maand last gehad van één of meerdere klachten aan je vulva of vagina (meerdere antwoorden mogelijk)? Indien ja, geef ook aan hoe ernstig. - Pijn tijdens seksueel contact]' : ['pijn na seksueel contact (branderig gevoel)','Pijn na seks','Pijn tijdens manuele seks of met speeltjes','pijn bij seks enkel in eerste dagen na menstruatie','Pijn bij klaarkomen','Pijn na seksueel contact','Pijn na seksueel contact + bloedverlies ','Tijden eisprong pijn binnenin bij diepe penetratie','Bij seksuele betrekkingen heb ik wel pijn tijdens of na het vrijen, alsook van jeuk of branderig gevoel']\n",
    "}\n",
    "\n",
    "_names_map = {\n",
    "    'Q1.Q53_1.[Heb je de laatste maand last gehad van één of meerdere klachten aan je vulva of vagina (meerdere antwoorden mogelijk)? Indien ja, geef ook aan hoe ernstig. - Roodheid]' : \"Vaginal.Symptom.Redness\",\n",
    "    'Q1.Q53_2.[Heb je de laatste maand last gehad van één of meerdere klachten aan je vulva of vagina (meerdere antwoorden mogelijk)? Indien ja, geef ook aan hoe ernstig. - Zwelling]' : 'Vaginal.Symptom.Swelling',\n",
    "    'Q1.Q53_3.[Heb je de laatste maand last gehad van één of meerdere klachten aan je vulva of vagina (meerdere antwoorden mogelijk)? Indien ja, geef ook aan hoe ernstig. - Pijn (algemeen)]' : 'Vaginal.Symptom.Pain',\n",
    "    'Q1.Q53_4.[Heb je de laatste maand last gehad van één of meerdere klachten aan je vulva of vagina (meerdere antwoorden mogelijk)? Indien ja, geef ook aan hoe ernstig. - Jeuk]' : 'Vaginal.Symptom.Itch',\n",
    "    'Q1.Q53_5.[Heb je de laatste maand last gehad van één of meerdere klachten aan je vulva of vagina (meerdere antwoorden mogelijk)? Indien ja, geef ook aan hoe ernstig. - Branderig gevoel]' : 'Vaginal.Symptom.Burning',\n",
    "    'Q1.Q53_6.[Heb je de laatste maand last gehad van één of meerdere klachten aan je vulva of vagina (meerdere antwoorden mogelijk)? Indien ja, geef ook aan hoe ernstig. - Toename in vaginale afscheiding (anders dan de normale maandelijkse afscheiding)]' : 'Vaginal.Symptom.Discharge.More',\n",
    "    'Q1.Q53_7.[Heb je de laatste maand last gehad van één of meerdere klachten aan je vulva of vagina (meerdere antwoorden mogelijk)? Indien ja, geef ook aan hoe ernstig. - Verandering in de vaginale afscheiding (andere kleur, onaangename geur)]' : 'Vaginal.Symptom.Discharge.Change',\n",
    "    'Q1.Q53_8.[Heb je de laatste maand last gehad van één of meerdere klachten aan je vulva of vagina (meerdere antwoorden mogelijk)? Indien ja, geef ook aan hoe ernstig. - Pijn tijdens seksueel contact]' : 'Vaginal.Symptom.Painsex'\n",
    "}\n",
    "\n",
    "def _symptom_clean(row, current_col):\n",
    "    if row[current_col] in ['Matige klachten', 'Milde klachten', 'Ernstige klachten']:\n",
    "        return True\n",
    "    else:\n",
    "        return row[other_col] in other_responses[current_col]\n",
    "    #fi\n",
    "#edef\n",
    "\n",
    "for current_col in _names_map:\n",
    "    QC[_names_map[current_col]] = Qraw[[current_col, other_col]].apply(lambda row: _symptom_clean(row, current_col), axis=1)\n",
    "#efror    \n",
    "\n"
   ]
  },
  {
   "cell_type": "markdown",
   "id": "6bb58acb-c07a-4ef7-9035-45f31cd2d920",
   "metadata": {},
   "source": [
    "### Number of symptoms"
   ]
  },
  {
   "cell_type": "markdown",
   "id": "44868e8b-9b99-4997-be02-ca8b43bcefdf",
   "metadata": {},
   "source": [
    "#### n"
   ]
  },
  {
   "cell_type": "code",
   "execution_count": 80,
   "id": "cacf5e0e-a71d-457b-83e9-b373c1908e7f",
   "metadata": {},
   "outputs": [
    {
     "data": {
      "text/plain": [
       "True"
      ]
     },
     "execution_count": 80,
     "metadata": {},
     "output_type": "execute_result"
    }
   ],
   "source": [
    "n = 0\n",
    "n < 9"
   ]
  },
  {
   "cell_type": "code",
   "execution_count": 86,
   "id": "167c25f2-cfab-4865-9ab3-4c71db2a04fc",
   "metadata": {},
   "outputs": [
    {
     "data": {
      "text/plain": [
       "{0: 2885, 6: 152, 1: 955, 3: 509, 2: 762, 4: 366, 8: 76, 5: 211, 7: 91}"
      ]
     },
     "execution_count": 86,
     "metadata": {},
     "output_type": "execute_result"
    }
   ],
   "source": [
    "def _clean_symptom_n(row):\n",
    "    n = 0\n",
    "    if n in [0,1,2,3,4,5,6,7,8]:\n",
    "        if row['Vaginal.Symptom.Redness'] == True:\n",
    "            n = n+1\n",
    "        else:\n",
    "             n = n\n",
    "        #fi\n",
    "        if row['Vaginal.Symptom.Swelling'] == True:\n",
    "            n =  n+1\n",
    "        else:\n",
    "            n = n\n",
    "        #fi\n",
    "        if row['Vaginal.Symptom.Pain'] == True:\n",
    "            n =  n+1\n",
    "        else:\n",
    "            n = n\n",
    "        #fi\n",
    "        if row['Vaginal.Symptom.Itch'] == True:\n",
    "            n =  n+1\n",
    "        else:\n",
    "            n = n\n",
    "        #fi\n",
    "        if row['Vaginal.Symptom.Burning'] == True:\n",
    "            n =  n+1\n",
    "        else:\n",
    "            n = n\n",
    "        #fi\n",
    "        if row['Vaginal.Symptom.Discharge.More'] == True:\n",
    "            n =  n+1\n",
    "        else:\n",
    "            n = n\n",
    "        #fi\n",
    "        if row['Vaginal.Symptom.Discharge.Change'] == True:\n",
    "            n =  n+1\n",
    "        else:\n",
    "            n = n\n",
    "        #fi\n",
    "        if row['Vaginal.Symptom.Painsex'] == True:\n",
    "            n =  n+1\n",
    "        else:\n",
    "            n = n\n",
    "        #fi\n",
    "    return n\n",
    "    #fi\n",
    "#edef\n",
    "\n",
    "QC['Vaginal.Symptom.n'] = QC.apply(_clean_symptom_n, axis = 1)\n",
    "\n",
    "freq(QC['Vaginal.Symptom.n'])"
   ]
  },
  {
   "cell_type": "markdown",
   "id": "06011589-2d96-4cc5-b238-d687b9201692",
   "metadata": {},
   "source": [
    "#### n >= 1"
   ]
  },
  {
   "cell_type": "code",
   "execution_count": 92,
   "id": "0aabf5dd-a1a7-486e-ad8c-f8df805f8790",
   "metadata": {},
   "outputs": [
    {
     "data": {
      "text/plain": [
       "{False: 2885, True: 3122}"
      ]
     },
     "execution_count": 92,
     "metadata": {},
     "output_type": "execute_result"
    }
   ],
   "source": [
    "## number of symptoms >= 1\n",
    "\n",
    "def _clean_symptom_n1(val):\n",
    "    if val['Vaginal.Symptom.n'] >= 1:\n",
    "        return True\n",
    "    else:\n",
    "        return False\n",
    "    #fi\n",
    "#edef\n",
    "\n",
    "QC['Vaginal.Symptom.n1'] = QC.apply(_clean_symptom_n1, axis = 1)\n",
    "freq(QC['Vaginal.Symptom.n1'])"
   ]
  },
  {
   "cell_type": "markdown",
   "id": "435921d8-a77f-4df0-8aca-d7b505a656ec",
   "metadata": {},
   "source": [
    "#### n >= 3"
   ]
  },
  {
   "cell_type": "code",
   "execution_count": 93,
   "id": "871633da-8e4f-4990-af02-26a6511b287d",
   "metadata": {},
   "outputs": [
    {
     "data": {
      "text/plain": [
       "{False: 4602, True: 1405}"
      ]
     },
     "execution_count": 93,
     "metadata": {},
     "output_type": "execute_result"
    }
   ],
   "source": [
    "## number of symptoms >= 1\n",
    "\n",
    "def _clean_symptom_n3(val):\n",
    "    if val['Vaginal.Symptom.n'] >= 3:\n",
    "        return True\n",
    "    else:\n",
    "        return False\n",
    "    #fi\n",
    "#edef\n",
    "\n",
    "QC['Vaginal.Symptom.n3'] = QC.apply(_clean_symptom_n3, axis = 1)\n",
    "freq(QC['Vaginal.Symptom.n3'])"
   ]
  },
  {
   "cell_type": "markdown",
   "id": "1a3f68f0-3db1-4844-80f4-942d6fdb5a6e",
   "metadata": {},
   "source": [
    "## Life style"
   ]
  },
  {
   "cell_type": "markdown",
   "id": "a3e8e184-e160-4176-a8da-a1f27867415c",
   "metadata": {},
   "source": [
    "### Partner"
   ]
  },
  {
   "cell_type": "code",
   "execution_count": 94,
   "id": "7910c9d4-fb2b-4d31-ad88-8ae87e8c7e7d",
   "metadata": {},
   "outputs": [
    {
     "name": "stdout",
     "output_type": "stream",
     "text": [
      "Lifestyle.Partner.IsMan\n",
      "Lifestyle.Partner.IsWoman\n"
     ]
    }
   ],
   "source": [
    "col = 'Q1.Q4.[Mijn partner(s) is/zijn...]'\n",
    "freq(Qraw[col])\n",
    "col_values = {'Man' : 'Man', 'Vrouw' : 'Woman'}\n",
    "for cv in col_values:\n",
    "    QC['Lifestyle.Partner.Is%s' % col_values[cv]] = Qraw[col].apply(lambda x: True if x == cv else None if x not in col_values else False)\n",
    "    print('Lifestyle.Partner.Is%s' % col_values[cv])\n",
    "#efor\n",
    "\n",
    "QC['Lifestyle.Partner.OneVsSingle'] = Qraw['Q1.Q47.[Heb je de afgelopen drie maanden één of meerdere seksuele\\npartner(s) gehad? - Selected Choice]'].apply(\n",
    "    lambda x: None if (pd.isna(x) or x in ['Ja, meerdere vaste partners: hoeveel?', 'Ja, wisselende partners: hoeveel?']) else x == 'Ja, één vaste partner')\n",
    "QC['Lifestyle.Partner.OneVsMany'] = Qraw['Q1.Q47.[Heb je de afgelopen drie maanden één of meerdere seksuele\\npartner(s) gehad? - Selected Choice]'].apply(\n",
    "    lambda x: None if (pd.isna(x) or x in ['Nee']) else x != 'Ja, één vaste partner')"
   ]
  },
  {
   "cell_type": "markdown",
   "id": "e5d399a1-b9ae-47a9-bf29-3e34fc06c656",
   "metadata": {},
   "source": [
    "### Current smoker"
   ]
  },
  {
   "cell_type": "code",
   "execution_count": 95,
   "id": "688d08b1-febf-464b-a876-12089ca8a0f9",
   "metadata": {},
   "outputs": [],
   "source": [
    "QC['Lifestyle.Drugs.Current_smoker'] = Qraw['Q1.Q21.[Rook je? Geef ook op hoeveel sigaretten je per dag rook(te) - Selected Choice]'].apply(\n",
    "    lambda x: None if pd.isna(x) else x == 'Ja')\n",
    "\n"
   ]
  },
  {
   "cell_type": "markdown",
   "id": "c8bd45b2-920e-4706-a0cd-510efdc3a841",
   "metadata": {},
   "source": [
    "### Current druguser"
   ]
  },
  {
   "cell_type": "code",
   "execution_count": 96,
   "id": "0ae6e70e-ed6c-48d8-94f2-c391a99ebbde",
   "metadata": {},
   "outputs": [],
   "source": [
    "QC['Lifestyle.Drugs.Current_druguser'] = Qraw['Q1.Q22.[Gebruik je drugs (exclusief alcohol)? Gelieve ook aan te geven welke. Deze informatie wordt pseudoniem verwerkt. Wij hebben het grootste respect voor jou en voor je privacy. - Selected Choice]'].apply(\n",
    "    lambda x: None if pd.isna(x) else x == 'Ja')"
   ]
  },
  {
   "cell_type": "markdown",
   "id": "64958ce2-10fb-43fc-9b51-bccd807ba1e6",
   "metadata": {},
   "source": [
    "### Current alcohol yes/no"
   ]
  },
  {
   "cell_type": "code",
   "execution_count": 97,
   "id": "8aefd306-caf5-4185-bcce-2ba7c85cc945",
   "metadata": {},
   "outputs": [],
   "source": [
    "\n",
    "def current_alcohol(val):\n",
    "    if pd.isna(val):\n",
    "        return None\n",
    "    else:\n",
    "        return val != 'Ik drink geen alcohol'\n",
    "    #fi\n",
    "#edef\n",
    "\n",
    "QC['Lifestyle.Drugs.Current_alcohol'] = Qraw['Q1.Q30_4.[Als je alcohol drinkt, wat drink je dan meestal? (meerdere antwoorden mogelijk) - Selected Choice - Ik drink geen alcohol]'].apply(current_alcohol)"
   ]
  },
  {
   "cell_type": "markdown",
   "id": "6887e31f-7503-42a0-90a1-5875b4048b30",
   "metadata": {},
   "source": [
    "### Stress"
   ]
  },
  {
   "cell_type": "code",
   "execution_count": 98,
   "id": "6dbeec4b-52a3-4375-99ab-a262fd2f81d9",
   "metadata": {},
   "outputs": [],
   "source": [
    "\n",
    "#Binary variable\n",
    "def clean_stress(val):\n",
    "    if pd.isna(val) or val == '':\n",
    "        return None\n",
    "    else :\n",
    "        return val in ['Vaak', 'Meestal', 'Voortdurend']\n",
    "    #fi\n",
    "#edef\n",
    "\n",
    "\n",
    "QC['Lifestyle.Mood.Stress.4weeks'] = Qraw['Q1.Q46_6.[Hoe voelde je je de afgelopen vier weken? - Voelde je je gestresseerd?]'].apply(clean_stress)\n",
    "\n",
    "#Dummy variables\n",
    "\n",
    "##Voortdurend\n",
    "def clean_stress_voortdurend(val):\n",
    "    if pd.isna(val) or val == '':\n",
    "        return None\n",
    "    else :\n",
    "        return val == 'Voortdurend'\n",
    "    #fi\n",
    "#edef\n",
    "QC['Lifestyle.Mood.Stress.4weeks.Constantly'] = Qraw['Q1.Q46_6.[Hoe voelde je je de afgelopen vier weken? - Voelde je je gestresseerd?]'].apply(clean_stress_voortdurend)\n",
    "\n",
    "##Meestal\n",
    "def clean_stress_meestal(val):\n",
    "    if pd.isna(val) or val == '':\n",
    "        return None\n",
    "    else :\n",
    "        return val == 'Meestal'\n",
    "    #fi\n",
    "#edef\n",
    "QC['Lifestyle.Mood.Stress.4weeks.Usually'] = Qraw['Q1.Q46_6.[Hoe voelde je je de afgelopen vier weken? - Voelde je je gestresseerd?]'].apply(clean_stress_meestal)\n",
    "\n",
    "##Vaak\n",
    "def clean_stress_vaak(val):\n",
    "    if pd.isna(val) or val == '':\n",
    "        return None\n",
    "    else :\n",
    "        return val == 'Vaak'\n",
    "    #fi\n",
    "#edef\n",
    "QC['Lifestyle.Mood.Stress.4weeks.Often'] = Qraw['Q1.Q46_6.[Hoe voelde je je de afgelopen vier weken? - Voelde je je gestresseerd?]'].apply(clean_stress_vaak)\n",
    "\n",
    "##Soms\n",
    "def clean_stress_soms(val):\n",
    "    if pd.isna(val) or val == '':\n",
    "        return None\n",
    "    else :\n",
    "        return val == 'Soms'\n",
    "    #fi\n",
    "#edef\n",
    "QC['Lifestyle.Mood.Stress.4weeks.Sometimes'] = Qraw['Q1.Q46_6.[Hoe voelde je je de afgelopen vier weken? - Voelde je je gestresseerd?]'].apply(clean_stress_soms)\n",
    "\n",
    "##Zelden\n",
    "def clean_stress_zelden(val):\n",
    "    if pd.isna(val) or val == '':\n",
    "        return None\n",
    "    else :\n",
    "        return val == 'Zelden'\n",
    "    #fi\n",
    "#edef\n",
    "QC['Lifestyle.Mood.Stress.4weeks.Rarely'] = Qraw['Q1.Q46_6.[Hoe voelde je je de afgelopen vier weken? - Voelde je je gestresseerd?]'].apply(clean_stress_zelden)\n",
    "\n",
    "##Nooit\n",
    "def clean_stress_nooit(val):\n",
    "    if pd.isna(val) or val == '':\n",
    "        return None\n",
    "    else :\n",
    "        return val == 'Nooit'\n",
    "    #fi\n",
    "#edef\n",
    "QC['Lifestyle.Mood.Stress.4weeks.Never'] = Qraw['Q1.Q46_6.[Hoe voelde je je de afgelopen vier weken? - Voelde je je gestresseerd?]'].apply(clean_stress_nooit)\n"
   ]
  },
  {
   "cell_type": "markdown",
   "id": "6bbdf3e2-05c4-4240-8bd2-d19d082f75c1",
   "metadata": {},
   "source": [
    "### Increased stress"
   ]
  },
  {
   "cell_type": "code",
   "execution_count": 99,
   "id": "985aeef8-d2c0-4f8a-a46b-1e7cef347d07",
   "metadata": {},
   "outputs": [
    {
     "data": {
      "text/plain": [
       "{None: 2753,\n",
       " 'Hetzelfde': 1965,\n",
       " 'Ja': 955,\n",
       " 'Minder dan eerder aangegeven': 283,\n",
       " '': 51}"
      ]
     },
     "execution_count": 99,
     "metadata": {},
     "output_type": "execute_result"
    }
   ],
   "source": [
    "freq(Qraw['Q2.Q20.[Voelde je je de afgelopen maand gemiddeld somberder en/of meer gestresseerd dan normaal?]'])"
   ]
  },
  {
   "cell_type": "code",
   "execution_count": 100,
   "id": "a43786e0-09b2-498c-a785-353062d1ae11",
   "metadata": {},
   "outputs": [],
   "source": [
    "def clean_increasedstress(val):\n",
    "    if pd.isna(val) or val == '':\n",
    "        return None\n",
    "    else :\n",
    "        return val == 'Ja'\n",
    "    #fi\n",
    "#edef\n",
    "\n",
    "\n",
    "QC['Lifestyle.Mood.Stress.Increased'] = Qraw['Q2.Q20.[Voelde je je de afgelopen maand gemiddeld somberder en/of meer gestresseerd dan normaal?]'].apply(clean_increasedstress)\n"
   ]
  },
  {
   "cell_type": "markdown",
   "id": "e732dab1-29f7-41d4-b259-7139096c7fcf",
   "metadata": {},
   "source": [
    "## Environment"
   ]
  },
  {
   "cell_type": "markdown",
   "id": "46902105-e81e-47e3-b365-e3fd13ee57a3",
   "metadata": {},
   "source": [
    "### Diet"
   ]
  },
  {
   "cell_type": "code",
   "execution_count": 101,
   "id": "b09fb1a0-d29f-44ea-9938-fc477536082e",
   "metadata": {},
   "outputs": [],
   "source": [
    "\n",
    "QC['Nutrition.EatsMeat'] = Qraw['Q1.Q29_4.[Hoe regelmatig heb je de onderstaande zaken gegeten of gedronken in de afgelopen 3 maanden? - Vlees]'].apply(\n",
    "    lambda x: None if pd.isna(x) else x not in ['Zelden', 'Nooit'])\n",
    "\n",
    "QC['Nutrition.EatsFish'] = Qraw['Q1.Q29_6.[Hoe regelmatig heb je de onderstaande zaken gegeten of gedronken in de afgelopen 3 maanden? - Vis]'].apply(\n",
    "    lambda x: None if pd.isna(x) else x in ['Zelden', 'Nooit'])\n",
    "\n",
    "QC['Nutrition.EatsAnimals'] = Qraw['Q1.Q29_5.[Hoe regelmatig heb je de onderstaande zaken gegeten of gedronken in de afgelopen 3 maanden? - Dierlijke producten (eieren, kaas, gelatine,...)]'].apply(\n",
    "    lambda x: None if pd.isna(x) else x in ['Zelden', 'Nooit'])\n",
    "\n",
    "QC['Nutrition.Vegetarian'] = QC.apply(\n",
    "    lambda x: None if any(pd.isna(x[['Nutrition.EatsMeat','Nutrition.EatsFish']])) else not(x['Nutrition.EatsFish'] or x['Nutrition.EatsMeat']), axis=1)\n",
    "\n",
    "QC['Nutrition.Pescetarian'] = QC.apply(\n",
    "    lambda x: None if any(pd.isna(x[['Nutrition.EatsMeat','Nutrition.EatsFish']])) else x['Nutrition.EatsFish'] and not(x['Nutrition.EatsMeat']), axis=1)\n",
    "\n",
    "QC['Nutrition.Vegan'] = QC.apply(\n",
    "    lambda x: None if any(pd.isna(x[['Nutrition.EatsMeat','Nutrition.EatsFish', 'Nutrition.EatsAnimals']])) else not(x['Nutrition.EatsFish'] or x['Nutrition.EatsMeat'] or x['Nutrition.EatsAnimals']), axis=1)\n"
   ]
  },
  {
   "cell_type": "markdown",
   "id": "6da1687e-e727-447f-83d5-f7907d2b3059",
   "metadata": {},
   "source": [
    "### Living environment"
   ]
  },
  {
   "cell_type": "code",
   "execution_count": 102,
   "id": "271ad278-1b7c-43d2-8500-a57a06454757",
   "metadata": {},
   "outputs": [],
   "source": [
    "\n",
    "QC['Environment.Urban'] = Qraw['Q1.Q15.[Hoe zou je het gebied waar je nu woont omschrijven?]'].apply(\n",
    "    lambda x: None if pd.isna(x) else x in ['Stadskern', 'Dorpskern', 'Residentiële woonwijk', 'Drukke baan', 'Industriezone'])\n",
    "\n",
    "QC['Environment.Coutryside'] = Qraw['Q1.Q15.[Hoe zou je het gebied waar je nu woont omschrijven?]'].apply(\n",
    "    lambda x: None if pd.isna(x) else x in ['Groene zone/ recreatiegebied/...', 'Landelijk gebied'])"
   ]
  },
  {
   "cell_type": "markdown",
   "id": "1295e17b-b929-4674-9122-774dfcc0f359",
   "metadata": {},
   "source": [
    "### Belgium first three years of life"
   ]
  },
  {
   "cell_type": "code",
   "execution_count": 103,
   "id": "0b784317-c0df-4a31-ac7e-ac17b149d7bd",
   "metadata": {},
   "outputs": [],
   "source": [
    "def is_belgium(v):\n",
    "    if pd.isna(v):\n",
    "        return None\n",
    "    #fi\n",
    "    v = v.lower()\n",
    "    if 'belg' in v:\n",
    "        return True\n",
    "    elif v in ['be', 'antwerpen', 'neen', '0', 'geen', 'b', 'beglie' ]:\n",
    "        return True\n",
    "    else:\n",
    "        return False\n",
    "    #fi\n",
    "#edef\n",
    "\n",
    "QC['Environment.Belgium.First3Years'] = Qraw['Q1.Q9.[In welk(e) land(en) heb je gewoond tot en met je derde levensjaar? Indien dit enkel België is, mag je het ook opgeven.]'].apply(\n",
    "    lambda x: is_belgium(x))"
   ]
  },
  {
   "cell_type": "markdown",
   "id": "f2f1ce5e-ecf1-406a-a84d-f241829c15c4",
   "metadata": {},
   "source": [
    "### Economic"
   ]
  },
  {
   "cell_type": "code",
   "execution_count": 104,
   "id": "834afb26-6053-4dc2-96b5-e921e9eb8e99",
   "metadata": {},
   "outputs": [],
   "source": [
    "QC['Environment.Economic.HouseholdContribution'] = Qraw['Q2.Q7.[Hoe groot is je aandeel aan het gezinsinkomen?]'].apply(\n",
    "    lambda x: None if pd.isna(x) else {'Ik heb het grootste aandeel ': 3/4,\n",
    " 'Ik draag als enige bij ': 4/4,\n",
    " 'We dragen evenveel bij  ': 2/4,\n",
    " 'Ik draag het minste bij  ': 1/4,\n",
    " 'Ik draag niet bij  ': 0/4}.get(x, None))\n",
    "\n",
    "QC['Environment.Economic.FinancialDifficulties'] = Qraw['Q2.Q4.[Kan je maandelijks rondkomen met de som van totaal beschikbaar gezinsinkomen (alles inbegrepen*)? \\n\\n\\n\\n* De leefomstandigheden van een huishouden hangen natuurlijk in belangrijke mate af van het inkomen. Het gaat hier over het totale beschikbare inkomen van de verschillende leden van het huishouden samen. Meerdere leden kunnen dus bijdragen. Het totale beschikbare inkomen van een huishouden bestaat uit, (1) netto-lonen, wedden en nettobedrijfsinkomens voor zelfstandigen, (2) sociale uitkeringen en kinderbijslagen, (3) bijkomende inkomens zoals huuropbrengsten, intresten e.a. De som van al deze inkomens voor alle personen uit je huishouden is het totale beschikbare inkomen van je huishouden.]'].apply(\n",
    "    lambda x: None if pd.isna(x) else (x in ['Eerder moeilijk', 'Moeilijk', 'Zeer moeilijk']))"
   ]
  },
  {
   "cell_type": "markdown",
   "id": "b0b3054c-098a-4a80-a978-f58a12733e45",
   "metadata": {},
   "source": [
    "# Export cleaned questionnaire"
   ]
  },
  {
   "cell_type": "code",
   "execution_count": 105,
   "id": "31d189f3-ec9d-4f5f-b50c-1cf5cf6c30f3",
   "metadata": {},
   "outputs": [],
   "source": [
    "\n",
    "#with RDM('../data/cleaned/IsalaFlow1.CleanedQuestionnaires.xlsx', 'w', nouser=True) as ofd:\n",
    "   # QC.to_excel(ofd)\n",
    "#ewith\n",
    "QC.to_excel('../data/cleaned/IsalaFlow1.CleanedQuestionnaires.Kato.240923.xlsx')\n",
    "\n",
    "#with RDM('../data/cleaned/IsalaFlow1.CleanedQuestionnaires.xlsx', 'w', nouser=True) as ofd:\n",
    "    #QC.to_pickle(ofd)\n",
    "#ewith\n",
    "#QC.to_pickle('../data/cleaned/IsalaFlow1.CleanedQuestionnaires.xlsx')"
   ]
  },
  {
   "cell_type": "code",
   "execution_count": 109,
   "id": "dfd3df12-f683-486d-ab2e-46d3590bca18",
   "metadata": {
    "scrolled": true
   },
   "outputs": [
    {
     "data": {
      "text/html": [
       "<div>\n",
       "<style scoped>\n",
       "    .dataframe tbody tr th:only-of-type {\n",
       "        vertical-align: middle;\n",
       "    }\n",
       "\n",
       "    .dataframe tbody tr th {\n",
       "        vertical-align: top;\n",
       "    }\n",
       "\n",
       "    .dataframe thead th {\n",
       "        text-align: right;\n",
       "    }\n",
       "</style>\n",
       "<table border=\"1\" class=\"dataframe\">\n",
       "  <thead>\n",
       "    <tr style=\"text-align: right;\">\n",
       "      <th></th>\n",
       "      <th>IsalaID</th>\n",
       "      <th>General.Gender</th>\n",
       "      <th>General.Age</th>\n",
       "      <th>General.Height</th>\n",
       "      <th>General.Weight</th>\n",
       "      <th>General.Highest.Education</th>\n",
       "      <th>Health.BMI</th>\n",
       "      <th>Health.General.Q1.Good</th>\n",
       "      <th>Health.General.Q1.VeryGood</th>\n",
       "      <th>Health.General.Q1.Acceptable</th>\n",
       "      <th>...</th>\n",
       "      <th>Nutrition.EatsFish</th>\n",
       "      <th>Nutrition.EatsAnimals</th>\n",
       "      <th>Nutrition.Vegetarian</th>\n",
       "      <th>Nutrition.Pescetarian</th>\n",
       "      <th>Nutrition.Vegan</th>\n",
       "      <th>Environment.Urban</th>\n",
       "      <th>Environment.Coutryside</th>\n",
       "      <th>Environment.Belgium.First3Years</th>\n",
       "      <th>Environment.Economic.HouseholdContribution</th>\n",
       "      <th>Environment.Economic.FinancialDifficulties</th>\n",
       "    </tr>\n",
       "    <tr>\n",
       "      <th>idx</th>\n",
       "      <th></th>\n",
       "      <th></th>\n",
       "      <th></th>\n",
       "      <th></th>\n",
       "      <th></th>\n",
       "      <th></th>\n",
       "      <th></th>\n",
       "      <th></th>\n",
       "      <th></th>\n",
       "      <th></th>\n",
       "      <th></th>\n",
       "      <th></th>\n",
       "      <th></th>\n",
       "      <th></th>\n",
       "      <th></th>\n",
       "      <th></th>\n",
       "      <th></th>\n",
       "      <th></th>\n",
       "      <th></th>\n",
       "      <th></th>\n",
       "      <th></th>\n",
       "    </tr>\n",
       "  </thead>\n",
       "  <tbody>\n",
       "    <tr>\n",
       "      <th>ISALA00200</th>\n",
       "      <td>ISALA00200</td>\n",
       "      <td>Vrouw</td>\n",
       "      <td>21.0</td>\n",
       "      <td>164.0</td>\n",
       "      <td>65.0</td>\n",
       "      <td>Secondary education</td>\n",
       "      <td>24.167162</td>\n",
       "      <td>True</td>\n",
       "      <td>False</td>\n",
       "      <td>False</td>\n",
       "      <td>...</td>\n",
       "      <td>False</td>\n",
       "      <td>False</td>\n",
       "      <td>False</td>\n",
       "      <td>False</td>\n",
       "      <td>False</td>\n",
       "      <td>True</td>\n",
       "      <td>False</td>\n",
       "      <td>True</td>\n",
       "      <td>NaN</td>\n",
       "      <td>None</td>\n",
       "    </tr>\n",
       "  </tbody>\n",
       "</table>\n",
       "<p>1 rows × 99 columns</p>\n",
       "</div>"
      ],
      "text/plain": [
       "               IsalaID General.Gender  General.Age  General.Height  \\\n",
       "idx                                                                  \n",
       "ISALA00200  ISALA00200          Vrouw         21.0           164.0   \n",
       "\n",
       "            General.Weight General.Highest.Education  Health.BMI  \\\n",
       "idx                                                                \n",
       "ISALA00200            65.0       Secondary education   24.167162   \n",
       "\n",
       "           Health.General.Q1.Good Health.General.Q1.VeryGood  \\\n",
       "idx                                                            \n",
       "ISALA00200                   True                      False   \n",
       "\n",
       "           Health.General.Q1.Acceptable  ... Nutrition.EatsFish  \\\n",
       "idx                                      ...                      \n",
       "ISALA00200                        False  ...              False   \n",
       "\n",
       "           Nutrition.EatsAnimals  Nutrition.Vegetarian  Nutrition.Pescetarian  \\\n",
       "idx                                                                             \n",
       "ISALA00200                 False                 False                  False   \n",
       "\n",
       "            Nutrition.Vegan  Environment.Urban Environment.Coutryside  \\\n",
       "idx                                                                     \n",
       "ISALA00200            False               True                  False   \n",
       "\n",
       "           Environment.Belgium.First3Years  \\\n",
       "idx                                          \n",
       "ISALA00200                            True   \n",
       "\n",
       "           Environment.Economic.HouseholdContribution  \\\n",
       "idx                                                     \n",
       "ISALA00200                                        NaN   \n",
       "\n",
       "           Environment.Economic.FinancialDifficulties  \n",
       "idx                                                    \n",
       "ISALA00200                                       None  \n",
       "\n",
       "[1 rows x 99 columns]"
      ]
     },
     "execution_count": 109,
     "metadata": {},
     "output_type": "execute_result"
    }
   ],
   "source": [
    "QC.sample()"
   ]
  },
  {
   "cell_type": "code",
   "execution_count": 207,
   "id": "d8b46762-0c95-4f29-8144-afce01ab3ba1",
   "metadata": {},
   "outputs": [
    {
     "data": {
      "text/html": [
       "<div>\n",
       "<style scoped>\n",
       "    .dataframe tbody tr th:only-of-type {\n",
       "        vertical-align: middle;\n",
       "    }\n",
       "\n",
       "    .dataframe tbody tr th {\n",
       "        vertical-align: top;\n",
       "    }\n",
       "\n",
       "    .dataframe thead th {\n",
       "        text-align: right;\n",
       "    }\n",
       "</style>\n",
       "<table border=\"1\" class=\"dataframe\">\n",
       "  <thead>\n",
       "    <tr style=\"text-align: right;\">\n",
       "      <th></th>\n",
       "      <th>Q0.Status</th>\n",
       "      <th>Q0.Deelnemersnummer</th>\n",
       "      <th>Q0.Leeftijd</th>\n",
       "      <th>Q0.Woonde in België voor de eerste 3 levensjaren</th>\n",
       "      <th>Q0.Zwanger</th>\n",
       "      <th>Q0.Anticonceptiemethode</th>\n",
       "      <th>Q0.Postcode</th>\n",
       "      <th>Q1.StartDate.[Start Date]</th>\n",
       "      <th>Q1.EndDate.[End Date]</th>\n",
       "      <th>Q1.Status.[Response Type]</th>\n",
       "      <th>...</th>\n",
       "      <th>A.Isala ID</th>\n",
       "      <th>A.Arrival date</th>\n",
       "      <th>A.Sample date</th>\n",
       "      <th>A.Start menstrual cycle</th>\n",
       "      <th>A.Intercourse</th>\n",
       "      <th>A.day_of_cycle</th>\n",
       "      <th>Q1</th>\n",
       "      <th>Q2</th>\n",
       "      <th>A</th>\n",
       "      <th>A.Reproductive.Date.Last.Menstruation</th>\n",
       "    </tr>\n",
       "    <tr>\n",
       "      <th>idx</th>\n",
       "      <th></th>\n",
       "      <th></th>\n",
       "      <th></th>\n",
       "      <th></th>\n",
       "      <th></th>\n",
       "      <th></th>\n",
       "      <th></th>\n",
       "      <th></th>\n",
       "      <th></th>\n",
       "      <th></th>\n",
       "      <th></th>\n",
       "      <th></th>\n",
       "      <th></th>\n",
       "      <th></th>\n",
       "      <th></th>\n",
       "      <th></th>\n",
       "      <th></th>\n",
       "      <th></th>\n",
       "      <th></th>\n",
       "      <th></th>\n",
       "      <th></th>\n",
       "    </tr>\n",
       "  </thead>\n",
       "  <tbody>\n",
       "    <tr>\n",
       "      <th>ISALA02629</th>\n",
       "      <td>active</td>\n",
       "      <td>ISALA02629</td>\n",
       "      <td>38.0</td>\n",
       "      <td>ja</td>\n",
       "      <td>2</td>\n",
       "      <td>Geen</td>\n",
       "      <td>2970</td>\n",
       "      <td>2020-04-23 05:31:30</td>\n",
       "      <td>2020-04-23 05:52:25</td>\n",
       "      <td>IP Address</td>\n",
       "      <td>...</td>\n",
       "      <td>NaN</td>\n",
       "      <td>NaN</td>\n",
       "      <td>NaN</td>\n",
       "      <td>NaN</td>\n",
       "      <td>NaN</td>\n",
       "      <td>NaN</td>\n",
       "      <td>True</td>\n",
       "      <td>False</td>\n",
       "      <td>False</td>\n",
       "      <td>NaT</td>\n",
       "    </tr>\n",
       "    <tr>\n",
       "      <th>ISALA01109</th>\n",
       "      <td>active</td>\n",
       "      <td>ISALA01109</td>\n",
       "      <td>30.0</td>\n",
       "      <td>nee</td>\n",
       "      <td>0</td>\n",
       "      <td>Spiraaltje</td>\n",
       "      <td>2000</td>\n",
       "      <td>2020-04-23 09:30:07</td>\n",
       "      <td>2020-04-23 09:51:02</td>\n",
       "      <td>IP Address</td>\n",
       "      <td>...</td>\n",
       "      <td>ISALA01109</td>\n",
       "      <td>2020-07-17 00:00:00</td>\n",
       "      <td>2020-07-15 00:00:00</td>\n",
       "      <td>2020-06-27 00:00:00</td>\n",
       "      <td>No</td>\n",
       "      <td>18.0</td>\n",
       "      <td>True</td>\n",
       "      <td>True</td>\n",
       "      <td>True</td>\n",
       "      <td>NaT</td>\n",
       "    </tr>\n",
       "    <tr>\n",
       "      <th>ISALA03194</th>\n",
       "      <td>active</td>\n",
       "      <td>ISALA03194</td>\n",
       "      <td>35.0</td>\n",
       "      <td>ja</td>\n",
       "      <td>2</td>\n",
       "      <td>Geen</td>\n",
       "      <td>8560</td>\n",
       "      <td>NaN</td>\n",
       "      <td>NaN</td>\n",
       "      <td>NaN</td>\n",
       "      <td>...</td>\n",
       "      <td>NaN</td>\n",
       "      <td>NaN</td>\n",
       "      <td>NaN</td>\n",
       "      <td>NaN</td>\n",
       "      <td>NaN</td>\n",
       "      <td>NaN</td>\n",
       "      <td>False</td>\n",
       "      <td>False</td>\n",
       "      <td>False</td>\n",
       "      <td>NaT</td>\n",
       "    </tr>\n",
       "    <tr>\n",
       "      <th>ISALA04444</th>\n",
       "      <td>active</td>\n",
       "      <td>ISALA04444</td>\n",
       "      <td>28.0</td>\n",
       "      <td>ja</td>\n",
       "      <td>0</td>\n",
       "      <td>Geen</td>\n",
       "      <td>8550</td>\n",
       "      <td>NaN</td>\n",
       "      <td>NaN</td>\n",
       "      <td>NaN</td>\n",
       "      <td>...</td>\n",
       "      <td>NaN</td>\n",
       "      <td>NaN</td>\n",
       "      <td>NaN</td>\n",
       "      <td>NaN</td>\n",
       "      <td>NaN</td>\n",
       "      <td>NaN</td>\n",
       "      <td>False</td>\n",
       "      <td>False</td>\n",
       "      <td>False</td>\n",
       "      <td>NaT</td>\n",
       "    </tr>\n",
       "    <tr>\n",
       "      <th>ISALA04137</th>\n",
       "      <td>active</td>\n",
       "      <td>ISALA04137</td>\n",
       "      <td>24.0</td>\n",
       "      <td>ja</td>\n",
       "      <td>0</td>\n",
       "      <td>Pleister</td>\n",
       "      <td>2800</td>\n",
       "      <td>2020-04-23 10:23:32</td>\n",
       "      <td>2020-04-29 04:13:09</td>\n",
       "      <td>IP Address</td>\n",
       "      <td>...</td>\n",
       "      <td>ISALA04137</td>\n",
       "      <td>2020-07-24 00:00:00</td>\n",
       "      <td>2020-07-16 00:00:00</td>\n",
       "      <td>2020-06-20 00:00:00</td>\n",
       "      <td>Blank</td>\n",
       "      <td>26.0</td>\n",
       "      <td>True</td>\n",
       "      <td>True</td>\n",
       "      <td>True</td>\n",
       "      <td>2020-06-26</td>\n",
       "    </tr>\n",
       "    <tr>\n",
       "      <th>ISALA03411</th>\n",
       "      <td>active</td>\n",
       "      <td>ISALA03411</td>\n",
       "      <td>36.0</td>\n",
       "      <td>ja</td>\n",
       "      <td>2</td>\n",
       "      <td>sterelisatie</td>\n",
       "      <td>8800</td>\n",
       "      <td>2020-04-23 06:15:13</td>\n",
       "      <td>2020-04-23 06:48:37</td>\n",
       "      <td>IP Address</td>\n",
       "      <td>...</td>\n",
       "      <td>ISALA03411</td>\n",
       "      <td>2020-08-25 00:00:00</td>\n",
       "      <td>2020-08-23 00:00:00</td>\n",
       "      <td>2020-08-04 00:00:00</td>\n",
       "      <td>No</td>\n",
       "      <td>19.0</td>\n",
       "      <td>True</td>\n",
       "      <td>True</td>\n",
       "      <td>True</td>\n",
       "      <td>2020-08-04</td>\n",
       "    </tr>\n",
       "    <tr>\n",
       "      <th>ISALA05409</th>\n",
       "      <td>active</td>\n",
       "      <td>ISALA05409</td>\n",
       "      <td>33.0</td>\n",
       "      <td>ja</td>\n",
       "      <td>5</td>\n",
       "      <td>Niks</td>\n",
       "      <td>8700</td>\n",
       "      <td>2020-04-29 03:42:22</td>\n",
       "      <td>2020-04-29 04:19:26</td>\n",
       "      <td>IP Address</td>\n",
       "      <td>...</td>\n",
       "      <td>NaN</td>\n",
       "      <td>NaN</td>\n",
       "      <td>NaN</td>\n",
       "      <td>NaN</td>\n",
       "      <td>NaN</td>\n",
       "      <td>NaN</td>\n",
       "      <td>True</td>\n",
       "      <td>False</td>\n",
       "      <td>False</td>\n",
       "      <td>NaT</td>\n",
       "    </tr>\n",
       "    <tr>\n",
       "      <th>ISALA05698</th>\n",
       "      <td>active</td>\n",
       "      <td>ISALA05698</td>\n",
       "      <td>46.0</td>\n",
       "      <td>ja</td>\n",
       "      <td>2</td>\n",
       "      <td>Geen</td>\n",
       "      <td>2950</td>\n",
       "      <td>2020-04-23 10:03:46</td>\n",
       "      <td>2020-04-23 10:36:14</td>\n",
       "      <td>IP Address</td>\n",
       "      <td>...</td>\n",
       "      <td>ISALA05698</td>\n",
       "      <td>2020-07-29 00:00:00</td>\n",
       "      <td>2020-07-27 00:00:00</td>\n",
       "      <td>NVT</td>\n",
       "      <td>No</td>\n",
       "      <td>NaN</td>\n",
       "      <td>True</td>\n",
       "      <td>True</td>\n",
       "      <td>True</td>\n",
       "      <td>NaT</td>\n",
       "    </tr>\n",
       "    <tr>\n",
       "      <th>ISALA02661</th>\n",
       "      <td>active</td>\n",
       "      <td>ISALA02661</td>\n",
       "      <td>19.0</td>\n",
       "      <td>ja</td>\n",
       "      <td>0</td>\n",
       "      <td>spiraal</td>\n",
       "      <td>2100</td>\n",
       "      <td>2020-04-26 12:18:27</td>\n",
       "      <td>2020-04-29 11:09:47</td>\n",
       "      <td>IP Address</td>\n",
       "      <td>...</td>\n",
       "      <td>ISALA02661</td>\n",
       "      <td>2020-08-05 00:00:00</td>\n",
       "      <td>2020-08-02 00:00:00</td>\n",
       "      <td>2020-07-15 00:00:00</td>\n",
       "      <td>No</td>\n",
       "      <td>18.0</td>\n",
       "      <td>True</td>\n",
       "      <td>True</td>\n",
       "      <td>True</td>\n",
       "      <td>NaT</td>\n",
       "    </tr>\n",
       "    <tr>\n",
       "      <th>ISALA01480</th>\n",
       "      <td>active</td>\n",
       "      <td>ISALA01480</td>\n",
       "      <td>22.0</td>\n",
       "      <td>ja</td>\n",
       "      <td>0</td>\n",
       "      <td>Hormoonspiraal</td>\n",
       "      <td>2830</td>\n",
       "      <td>2020-04-23 04:05:52</td>\n",
       "      <td>2020-04-23 06:05:47</td>\n",
       "      <td>IP Address</td>\n",
       "      <td>...</td>\n",
       "      <td>ISALA01480</td>\n",
       "      <td>2020-07-16 00:00:00</td>\n",
       "      <td>2020-07-15 00:00:00</td>\n",
       "      <td>2020-07-04 00:00:00</td>\n",
       "      <td>No</td>\n",
       "      <td>11.0</td>\n",
       "      <td>True</td>\n",
       "      <td>True</td>\n",
       "      <td>True</td>\n",
       "      <td>2020-07-04</td>\n",
       "    </tr>\n",
       "  </tbody>\n",
       "</table>\n",
       "<p>10 rows × 776 columns</p>\n",
       "</div>"
      ],
      "text/plain": [
       "           Q0.Status Q0.Deelnemersnummer  Q0.Leeftijd  \\\n",
       "idx                                                     \n",
       "ISALA02629    active          ISALA02629         38.0   \n",
       "ISALA01109    active          ISALA01109         30.0   \n",
       "ISALA03194    active          ISALA03194         35.0   \n",
       "ISALA04444    active          ISALA04444         28.0   \n",
       "ISALA04137    active          ISALA04137         24.0   \n",
       "ISALA03411    active          ISALA03411         36.0   \n",
       "ISALA05409    active          ISALA05409         33.0   \n",
       "ISALA05698    active          ISALA05698         46.0   \n",
       "ISALA02661    active          ISALA02661         19.0   \n",
       "ISALA01480    active          ISALA01480         22.0   \n",
       "\n",
       "           Q0.Woonde in België voor de eerste 3 levensjaren Q0.Zwanger  \\\n",
       "idx                                                                      \n",
       "ISALA02629                                               ja          2   \n",
       "ISALA01109                                              nee          0   \n",
       "ISALA03194                                               ja          2   \n",
       "ISALA04444                                               ja          0   \n",
       "ISALA04137                                               ja          0   \n",
       "ISALA03411                                               ja          2   \n",
       "ISALA05409                                               ja          5   \n",
       "ISALA05698                                               ja          2   \n",
       "ISALA02661                                               ja          0   \n",
       "ISALA01480                                               ja          0   \n",
       "\n",
       "           Q0.Anticonceptiemethode Q0.Postcode Q1.StartDate.[Start Date]  \\\n",
       "idx                                                                        \n",
       "ISALA02629                    Geen        2970       2020-04-23 05:31:30   \n",
       "ISALA01109              Spiraaltje        2000       2020-04-23 09:30:07   \n",
       "ISALA03194                    Geen        8560                       NaN   \n",
       "ISALA04444                    Geen        8550                       NaN   \n",
       "ISALA04137                Pleister        2800       2020-04-23 10:23:32   \n",
       "ISALA03411            sterelisatie        8800       2020-04-23 06:15:13   \n",
       "ISALA05409                    Niks        8700       2020-04-29 03:42:22   \n",
       "ISALA05698                    Geen        2950       2020-04-23 10:03:46   \n",
       "ISALA02661                 spiraal        2100       2020-04-26 12:18:27   \n",
       "ISALA01480          Hormoonspiraal        2830       2020-04-23 04:05:52   \n",
       "\n",
       "           Q1.EndDate.[End Date] Q1.Status.[Response Type]  ...  A.Isala ID  \\\n",
       "idx                                                         ...               \n",
       "ISALA02629   2020-04-23 05:52:25                IP Address  ...         NaN   \n",
       "ISALA01109   2020-04-23 09:51:02                IP Address  ...  ISALA01109   \n",
       "ISALA03194                   NaN                       NaN  ...         NaN   \n",
       "ISALA04444                   NaN                       NaN  ...         NaN   \n",
       "ISALA04137   2020-04-29 04:13:09                IP Address  ...  ISALA04137   \n",
       "ISALA03411   2020-04-23 06:48:37                IP Address  ...  ISALA03411   \n",
       "ISALA05409   2020-04-29 04:19:26                IP Address  ...         NaN   \n",
       "ISALA05698   2020-04-23 10:36:14                IP Address  ...  ISALA05698   \n",
       "ISALA02661   2020-04-29 11:09:47                IP Address  ...  ISALA02661   \n",
       "ISALA01480   2020-04-23 06:05:47                IP Address  ...  ISALA01480   \n",
       "\n",
       "                 A.Arrival date        A.Sample date A.Start menstrual cycle  \\\n",
       "idx                                                                            \n",
       "ISALA02629                  NaN                  NaN                     NaN   \n",
       "ISALA01109  2020-07-17 00:00:00  2020-07-15 00:00:00     2020-06-27 00:00:00   \n",
       "ISALA03194                  NaN                  NaN                     NaN   \n",
       "ISALA04444                  NaN                  NaN                     NaN   \n",
       "ISALA04137  2020-07-24 00:00:00  2020-07-16 00:00:00     2020-06-20 00:00:00   \n",
       "ISALA03411  2020-08-25 00:00:00  2020-08-23 00:00:00     2020-08-04 00:00:00   \n",
       "ISALA05409                  NaN                  NaN                     NaN   \n",
       "ISALA05698  2020-07-29 00:00:00  2020-07-27 00:00:00                     NVT   \n",
       "ISALA02661  2020-08-05 00:00:00  2020-08-02 00:00:00     2020-07-15 00:00:00   \n",
       "ISALA01480  2020-07-16 00:00:00  2020-07-15 00:00:00     2020-07-04 00:00:00   \n",
       "\n",
       "           A.Intercourse A.day_of_cycle     Q1     Q2      A  \\\n",
       "idx                                                            \n",
       "ISALA02629           NaN            NaN   True  False  False   \n",
       "ISALA01109            No           18.0   True   True   True   \n",
       "ISALA03194           NaN            NaN  False  False  False   \n",
       "ISALA04444           NaN            NaN  False  False  False   \n",
       "ISALA04137         Blank           26.0   True   True   True   \n",
       "ISALA03411            No           19.0   True   True   True   \n",
       "ISALA05409           NaN            NaN   True  False  False   \n",
       "ISALA05698            No            NaN   True   True   True   \n",
       "ISALA02661            No           18.0   True   True   True   \n",
       "ISALA01480            No           11.0   True   True   True   \n",
       "\n",
       "           A.Reproductive.Date.Last.Menstruation  \n",
       "idx                                               \n",
       "ISALA02629                                   NaT  \n",
       "ISALA01109                                   NaT  \n",
       "ISALA03194                                   NaT  \n",
       "ISALA04444                                   NaT  \n",
       "ISALA04137                            2020-06-26  \n",
       "ISALA03411                            2020-08-04  \n",
       "ISALA05409                                   NaT  \n",
       "ISALA05698                                   NaT  \n",
       "ISALA02661                                   NaT  \n",
       "ISALA01480                            2020-07-04  \n",
       "\n",
       "[10 rows x 776 columns]"
      ]
     },
     "execution_count": 207,
     "metadata": {},
     "output_type": "execute_result"
    }
   ],
   "source": [
    "\n",
    "list(Qraw)\n",
    "Qraw.sample(n=10)"
   ]
  },
  {
   "cell_type": "code",
   "execution_count": null,
   "id": "4a72f135-2256-4420-b08b-77fe5fb63b67",
   "metadata": {},
   "outputs": [],
   "source": []
  }
 ],
 "metadata": {
  "kernelspec": {
   "display_name": "Python 3 (ipykernel)",
   "language": "python",
   "name": "python3"
  },
  "language_info": {
   "codemirror_mode": {
    "name": "ipython",
    "version": 3
   },
   "file_extension": ".py",
   "mimetype": "text/x-python",
   "name": "python",
   "nbconvert_exporter": "python",
   "pygments_lexer": "ipython3",
   "version": "3.12.4"
  }
 },
 "nbformat": 4,
 "nbformat_minor": 5
}
