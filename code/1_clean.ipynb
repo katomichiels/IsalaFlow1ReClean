{
 "cells": [
  {
   "cell_type": "code",
   "execution_count": 1,
   "id": "fa791b1e-78b5-42de-b681-33a9e7a6b0c3",
   "metadata": {},
   "outputs": [],
   "source": [
    "import rpy2\n",
    "import sys\n",
    "sys.path.append('/home/thies/repos/BIU/') # Modify this to where you have downloaded the BIU library\n",
    "import biu\n",
    "import numpy as np\n",
    "import pandas as pd\n",
    "import matplotlib.pylab as plt\n",
    "plt.rcParams['svg.fonttype'] = 'none'\n",
    "\n",
    "import seaborn as sns\n",
    "import scipy\n",
    "\n",
    "R = biu.R()\n",
    "from rdmpy import RDM\n",
    "RDM.meta(source=\"repos/LunaQuestionnaire/clean.ipynb\")"
   ]
  },
  {
   "cell_type": "markdown",
   "id": "4178a8a5-89f0-4da4-bffe-4346fd149bce",
   "metadata": {},
   "source": [
    "# Load the Isala Flow 1 questionnaire data"
   ]
  },
  {
   "cell_type": "code",
   "execution_count": 5,
   "id": "0e0e06c3-44ed-4938-a066-e2ed7d83958d",
   "metadata": {},
   "outputs": [],
   "source": [
    "with RDM('../data/processed/merged_questionnaires.pkl', 'r', nouser=True) as ifd:\n",
    "    Qraw = pd.read_pickle(ifd)"
   ]
  },
  {
   "cell_type": "markdown",
   "id": "6a71121b-36f5-4eef-83ca-7f988eb0cfed",
   "metadata": {},
   "source": [
    "# Prepare the cleaned dataframe"
   ]
  },
  {
   "cell_type": "code",
   "execution_count": 14,
   "id": "0c6a54aa-f62c-420c-8482-aebf782a1eea",
   "metadata": {},
   "outputs": [],
   "source": [
    "QC = Qraw[['Q0.Deelnemersnummer']].rename(columns={'Q0.Deelnemersnummer':'IsalaID'}).copy()"
   ]
  },
  {
   "cell_type": "markdown",
   "id": "80444e7e-f4ea-4f3f-8d41-de1bbd222151",
   "metadata": {},
   "source": [
    "# Clean questions"
   ]
  },
  {
   "cell_type": "markdown",
   "id": "6f7c178c-311a-4378-ad40-883175f35816",
   "metadata": {},
   "source": [
    "## Menstrual Cycle "
   ]
  },
  {
   "cell_type": "code",
   "execution_count": 33,
   "id": "d0777182-9bf1-47d8-b02e-3b9e855d48dc",
   "metadata": {},
   "outputs": [],
   "source": [
    "def determine_phases(row):\n",
    "    \"\"\"\n",
    "    returns\n",
    "     string\n",
    "    \"\"\"\n",
    "    cycle_disrupted = row['Q1.Q52.3.[Hoeveel dagen zijn er gemiddeld tussen de eerste dag van je menstruatie\\nen de eerste dag van je volgende? Je hoeft enkel het aantal dagen in te vullen indien je geen hormonale anticonceptie gebruikt die je cyclus kan beïnvloeden. - Selected Choice]'] == \"Ik gebruik hormonale anticonceptie of een andere hormonale behandeling die mijn menstruele cyclus kan beïnvloeden\"\n",
    "    cycle_days     = row['Q1.Q52.3_4_TEXT.[Hoeveel dagen zijn er gemiddeld tussen de eerste dag van je menstruatie\\nen de eerste dag van je volgende? Je hoeft enkel het aantal dagen in te vullen indien je geen hormonale anticonceptie gebruikt die je cyclus kan beïnvloeden. - Ik gebruik geen hormonale anticonceptie of een andere hormonale behandeling die mijn menstruele cyclus kan beïnvloeden - Tekst]']\n",
    "    current_day    = row['A.day_of_cycle']\n",
    "    \n",
    "    if cycle_disrupted:\n",
    "        return 'not_applicable'\n",
    "    #fi\n",
    "    \n",
    "    if isinstance(cycle_days, str):\n",
    "        return \"unknown\"\n",
    "    #fi\n",
    "    \n",
    "    if pd.isna(cycle_days):\n",
    "        cycle_days = 28\n",
    "    #fi\n",
    "    if pd.isna(current_day):\n",
    "        return 'unknown'\n",
    "    #fi\n",
    "    \n",
    "    if (cycle_days < 21) or (cycle_days > 35):\n",
    "        return 'unknown'\n",
    "    #fi\n",
    "    \n",
    "    if cycle_days <= 24:\n",
    "        ovulation = cycle_days - 12\n",
    "    elif cycle_days <= 31:\n",
    "        ovulation = cycle_days - 14\n",
    "    else:\n",
    "        ovulation = cycle_days - 16\n",
    "    #fi\n",
    "    \n",
    "    if current_day <= (ovulation-6):\n",
    "        return 'Follicular'\n",
    "    elif current_day <= (ovulation+2):\n",
    "        return 'Ovulation'\n",
    "    else:\n",
    "        return 'Luteal'\n",
    "    #fi\n",
    "    \n",
    "    return 'unknown'\n",
    "#edef\n",
    "\n",
    "phase = Qraw.apply(determine_phases, axis=1)\n",
    "\n",
    "\n",
    "\n",
    "col_values = ['Luteal', 'Ovulation', 'Follicular']\n",
    "for cv in col_values:\n",
    "    QC['Reproductive.Cycle.Phase.%s' % cv] = phase.apply(lambda x: True if x == cv else None if x not in col_values else False)\n",
    "#efor\n",
    "\n",
    "QC['Reproductive.PeriMenopause'] = Qraw['Q1.Q52.2.[Heeft dit te maken met één van de onderstaande mogelijkheden? - Selected Choice]'].apply(lambda x: str(x).lower() in ['c','d'])\n"
   ]
  },
  {
   "cell_type": "markdown",
   "id": "4940f661-d222-4892-8b2c-e25d95ac7aeb",
   "metadata": {},
   "source": [
    "## Partner gender"
   ]
  },
  {
   "cell_type": "code",
   "execution_count": 30,
   "id": "24e90e4b-16a9-4e3e-89f6-5dcfa3bf1813",
   "metadata": {},
   "outputs": [
    {
     "name": "stdout",
     "output_type": "stream",
     "text": [
      "Lifestyle.Partner.IsMan\n",
      "Lifestyle.Partner.IsWoman\n"
     ]
    }
   ],
   "source": [
    "col = 'Q1.Q4.[Mijn partner(s) is/zijn...]'\n",
    "biu.ops.lst.freq(Qraw[col])\n",
    "col_values = {'Man' : 'Man', 'Vrouw' : 'Woman'}\n",
    "for cv in col_values:\n",
    "    QC['Lifestyle.Partner.Is%s' % col_values[cv]] = Qraw[col].apply(lambda x: True if x == cv else None if x not in col_values else False)\n",
    "    print('Lifestyle.Partner.Is%s' % col_values[cv])\n",
    "#efor"
   ]
  },
  {
   "cell_type": "markdown",
   "id": "4c278219-e3e5-4236-8648-8a932958c037",
   "metadata": {},
   "source": [
    "## Miscarriage, abortions"
   ]
  },
  {
   "cell_type": "code",
   "execution_count": 37,
   "id": "afc4b063-d322-433d-a7cb-cd750e262199",
   "metadata": {},
   "outputs": [],
   "source": [
    "_rel = Qraw[[c for c in Qraw if 'uitgedragen' in c]]\n",
    "\n",
    "for rtype, rvalues in {'Miscarriage': ['Nee afgebroken, miskraam met medicatie', 'Nee afgebroken, spontane miskraam', 'Nee afgebroken, curettage miskraam'],\n",
    "                      'PretermBirth': ['Nee, vroeggeboorte'],\n",
    "                      'Abortion': ['Nee afgebroken, abortus']}.items():\n",
    "    QC['Reproductive.Pregnancy.%s' % rtype] = _rel.applymap(lambda x: x in rvalues).any(axis=1)\n",
    "#efor"
   ]
  },
  {
   "cell_type": "markdown",
   "id": "e3af3232-02b8-4d46-9f18-f976d116d33a",
   "metadata": {},
   "source": [
    "## Some previous questions"
   ]
  },
  {
   "cell_type": "code",
   "execution_count": 18,
   "id": "73cb3a2e-ad05-4afc-bea6-d1d405cb5c78",
   "metadata": {},
   "outputs": [],
   "source": [
    "QC['Lifestyle.Drugs.Current_smoker'] = Qraw['Q1.Q21.[Rook je? Geef ook op hoeveel sigaretten je per dag rook(te) - Selected Choice]'].apply(\n",
    "    lambda x: None if pd.isna(x) else x == 'Ja')\n",
    "\n",
    "QC['Lifestyle.Drugs.Current_druguser'] = Qraw['Q1.Q22.[Gebruik je drugs (exclusief alcohol)? Gelieve ook aan te geven welke. Deze informatie wordt pseudoniem verwerkt. Wij hebben het grootste respect voor jou en voor je privacy. - Selected Choice]'].apply(\n",
    "    lambda x: None if pd.isna(x) else x == 'Ja')\n",
    "\n",
    "QC['Reproductive.Pregnancy.Attempted'] = Qraw['Q1.Q49.[Heb je ooit actief geprobeerd om zwanger te worden?]'].apply(\n",
    "    lambda x: None if pd.isna(x) else x == 'Ja')\n",
    "\n",
    "QC['Reproductive.Breastfeeding'] = Qraw['Q2.Q24.[Geef je op dit moment borstvoeding?]'].apply(\n",
    "    lambda x: None if pd.isna(x) else x == 'Ja')"
   ]
  },
  {
   "cell_type": "code",
   "execution_count": 44,
   "id": "8cb0a763-f75b-43a3-866c-494ffad1926b",
   "metadata": {},
   "outputs": [],
   "source": [
    "QC['Nutrition.EatsMeat'] = Qraw['Q1.Q29_4.[Hoe regelmatig heb je de onderstaande zaken gegeten of gedronken in de afgelopen 3 maanden? - Vlees]'].apply(\n",
    "    lambda x: None if pd.isna(x) else x not in ['Zelden', 'Nooit'])\n",
    "\n",
    "QC['Nutrition.EatsFish'] = Qraw['Q1.Q29_6.[Hoe regelmatig heb je de onderstaande zaken gegeten of gedronken in de afgelopen 3 maanden? - Vis]'].apply(\n",
    "    lambda x: None if pd.isna(x) else x in ['Zelden', 'Nooit'])\n",
    "\n",
    "QC['Nutrition.EatsAnimals'] = Qraw['Q1.Q29_5.[Hoe regelmatig heb je de onderstaande zaken gegeten of gedronken in de afgelopen 3 maanden? - Dierlijke producten (eieren, kaas, gelatine,...)]'].apply(\n",
    "    lambda x: None if pd.isna(x) else x in ['Zelden', 'Nooit'])\n",
    "\n",
    "QC['Nutrition.Vgetarian'] = QC.apply(\n",
    "    lambda x: None if any(pd.isna(x[['Nutrition.EatsMeat','Nutrition.EatsFish']])) else not(x['Nutrition.EatsFish'] or x['Nutrition.EatsMeat']), axis=1)\n",
    "\n",
    "QC['Nutrition.Pescetarian'] = QC.apply(\n",
    "    lambda x: None if any(pd.isna(x[['Nutrition.EatsMeat','Nutrition.EatsFish']])) else x['Nutrition.EatsFish'] and not(x['Nutrition.EatsMeat']), axis=1)\n",
    "\n",
    "QC['Nutrition.Vegan'] = QC.apply(\n",
    "    lambda x: None if any(pd.isna(x[['Nutrition.EatsMeat','Nutrition.EatsFish', 'Nutrition.EatsAnimals']])) else not(x['Nutrition.EatsFish'] or x['Nutrition.EatsMeat'] or x['Nutrition.EatsAnimals']), axis=1)\n",
    "\n",
    "\n",
    "QC['Environment.Urban'] = Qraw['Q1.Q15.[Hoe zou je het gebied waar je nu woont omschrijven?]'].apply(\n",
    "    lambda x: None if pd.isna(x) else x in ['Stadskern', 'Dorpskern', 'Residentiële woonwijk', 'Drukke baan', 'Industriezone'])\n",
    "\n",
    "QC['Environment.Coutryside'] = Qraw['Q1.Q15.[Hoe zou je het gebied waar je nu woont omschrijven?]'].apply(\n",
    "    lambda x: None if pd.isna(x) else x in ['Groene zone/ recreatiegebied/...', 'Landelijk gebied'])\n",
    "\n"
   ]
  },
  {
   "cell_type": "code",
   "execution_count": 47,
   "id": "3a3ac2d6-3fd4-4be6-9039-ee27c0c6c7b3",
   "metadata": {},
   "outputs": [],
   "source": [
    "def is_belgium(v):\n",
    "    if pd.isna(v):\n",
    "        return None\n",
    "    #fi\n",
    "    v = v.lower()\n",
    "    if 'belg' in v:\n",
    "        return True\n",
    "    elif v in ['be', 'antwerpen', 'neen', '0', 'geen', 'b', 'beglie' ]:\n",
    "        return True\n",
    "    else:\n",
    "        return False\n",
    "    #fi\n",
    "#edef\n",
    "\n",
    "QC['Environment.Belgium.First3Years'] = Qraw['Q1.Q9.[In welk(e) land(en) heb je gewoond tot en met je derde levensjaar? Indien dit enkel België is, mag je het ook opgeven.]'].apply(\n",
    "    lambda x: is_belgium(x))\n",
    "\n",
    "QC['Lifestyle.Partner.OneVsSingle'] = Qraw['Q1.Q47.[Heb je de afgelopen drie maanden één of meerdere seksuele\\npartner(s) gehad? - Selected Choice]'].apply(\n",
    "    lambda x: None if (pd.isna(x) or x in ['Ja, meerdere vaste partners: hoeveel?', 'Ja, wisselende partners: hoeveel?']) else x == 'Ja, één vaste partner')\n",
    "QC['Lifestyle.Partner.OneVsMany'] = Qraw['Q1.Q47.[Heb je de afgelopen drie maanden één of meerdere seksuele\\npartner(s) gehad? - Selected Choice]'].apply(\n",
    "    lambda x: None if (pd.isna(x) or x in ['Nee']) else x != 'Ja, één vaste partner')\n",
    "\n",
    "QC['Environment.Economic.HouseholdContribution'] = Qraw['Q2.Q7.[Hoe groot is je aandeel aan het gezinsinkomen?]'].apply(\n",
    "    lambda x: None if pd.isna(x) else {'Ik heb het grootste aandeel ': 3/4,\n",
    " 'Ik draag als enige bij ': 4/4,\n",
    " 'We dragen evenveel bij  ': 2/4,\n",
    " 'Ik draag het minste bij  ': 1/4,\n",
    " 'Ik draag niet bij  ': 0/4}.get(x, None))\n",
    "\n",
    "QC['Environment.Economic.FinancialDifficulties'] = Qraw['Q2.Q4.[Kan je maandelijks rondkomen met de som van totaal beschikbaar gezinsinkomen (alles inbegrepen*)? \\n\\n\\n\\n* De leefomstandigheden van een huishouden hangen natuurlijk in belangrijke mate af van het inkomen. Het gaat hier over het totale beschikbare inkomen van de verschillende leden van het huishouden samen. Meerdere leden kunnen dus bijdragen. Het totale beschikbare inkomen van een huishouden bestaat uit, (1) netto-lonen, wedden en nettobedrijfsinkomens voor zelfstandigen, (2) sociale uitkeringen en kinderbijslagen, (3) bijkomende inkomens zoals huuropbrengsten, intresten e.a. De som van al deze inkomens voor alle personen uit je huishouden is het totale beschikbare inkomen van je huishouden.]'].apply(\n",
    "    lambda x: None if pd.isna(x) else (x in ['Eerder moeilijk', 'Moeilijk', 'Zeer moeilijk']))"
   ]
  },
  {
   "cell_type": "markdown",
   "id": "682cd908-3c32-4574-9b2b-048af834c793",
   "metadata": {},
   "source": [
    "## Your additional questions"
   ]
  },
  {
   "cell_type": "code",
   "execution_count": null,
   "id": "24c787fc-034c-4bf1-b357-fd7d6f030bcc",
   "metadata": {},
   "outputs": [],
   "source": []
  },
  {
   "cell_type": "code",
   "execution_count": null,
   "id": "cd87e73d-cbc4-47a0-bf78-616b28431847",
   "metadata": {},
   "outputs": [],
   "source": []
  },
  {
   "cell_type": "code",
   "execution_count": null,
   "id": "c2bfacc8-6ff1-4d1d-897d-fecc495bfdd6",
   "metadata": {},
   "outputs": [],
   "source": []
  },
  {
   "cell_type": "code",
   "execution_count": null,
   "id": "e3491826-6255-404d-ba4f-6c9b2cb3ef56",
   "metadata": {},
   "outputs": [],
   "source": []
  },
  {
   "cell_type": "code",
   "execution_count": null,
   "id": "162ec830-34e7-49db-a1e2-b994b0900e66",
   "metadata": {},
   "outputs": [],
   "source": []
  },
  {
   "cell_type": "code",
   "execution_count": null,
   "id": "64646ea9-7fb6-4a86-a1d7-b848cf36aa29",
   "metadata": {},
   "outputs": [],
   "source": []
  },
  {
   "cell_type": "markdown",
   "id": "b0b3054c-098a-4a80-a978-f58a12733e45",
   "metadata": {},
   "source": [
    "# Export cleaned questionnaire"
   ]
  },
  {
   "cell_type": "code",
   "execution_count": 49,
   "id": "31d189f3-ec9d-4f5f-b50c-1cf5cf6c30f3",
   "metadata": {},
   "outputs": [],
   "source": [
    "with RDM('../data/cleaned/IsalaFlow1.CleanedQuestionnaires.xlsx', 'w', nouser=True) as ofd:\n",
    "    QC.to_excel(ofd)\n",
    "#ewith\n",
    "\n",
    "with RDM('../data/cleaned/IsalaFlow1.CleanedQuestionnaires.xlsx', 'w', nouser=True) as ofd:\n",
    "    QC.to_pickle(ofd)\n",
    "#ewith"
   ]
  },
  {
   "cell_type": "code",
   "execution_count": null,
   "id": "dfd3df12-f683-486d-ab2e-46d3590bca18",
   "metadata": {},
   "outputs": [],
   "source": []
  }
 ],
 "metadata": {
  "kernelspec": {
   "display_name": "Python [conda env:biu] *",
   "language": "python",
   "name": "conda-env-biu-py"
  },
  "language_info": {
   "codemirror_mode": {
    "name": "ipython",
    "version": 3
   },
   "file_extension": ".py",
   "mimetype": "text/x-python",
   "name": "python",
   "nbconvert_exporter": "python",
   "pygments_lexer": "ipython3",
   "version": "3.8.10"
  }
 },
 "nbformat": 4,
 "nbformat_minor": 5
}
