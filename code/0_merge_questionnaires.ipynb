{
 "cells": [
  {
   "cell_type": "code",
   "execution_count": 1,
   "id": "9706778c-26c3-4a7b-8a1a-54f436b255d2",
   "metadata": {},
   "outputs": [],
   "source": [
    "import rpy2\n",
    "import sys\n",
    "sys.path.append('/home/thies/repos/BIU/') # Modify this to where you have downloaded the BIU library\n",
    "import biu\n",
    "import numpy as np\n",
    "import pandas as pd\n",
    "import matplotlib.pylab as plt\n",
    "plt.rcParams['svg.fonttype'] = 'none'\n",
    "\n",
    "import seaborn as sns\n",
    "import scipy\n",
    "\n",
    "R = biu.R()\n",
    "from rdmpy import RDM\n",
    "RDM.meta(source=\"repos/IsalaFlow1ReClean/code/0_merge_questionnaires.ipynb\")"
   ]
  },
  {
   "cell_type": "markdown",
   "id": "feba6449-4506-4b28-9d7a-c728b4cf1bd6",
   "metadata": {},
   "source": [
    "# Merge the multiple Isala Flow1 questionnaires into 1 table"
   ]
  },
  {
   "cell_type": "markdown",
   "id": "1a6cb82e-db2a-41e6-8401-bbb94e328cde",
   "metadata": {},
   "source": [
    "## Load the questionnaire data"
   ]
  },
  {
   "cell_type": "markdown",
   "id": "c1caaea6-0440-4a80-9d80-ec04e16d98dc",
   "metadata": {},
   "source": [
    "### Q0: The initial website questions"
   ]
  },
  {
   "cell_type": "code",
   "execution_count": 2,
   "id": "3a61f1d0-3c54-430b-971c-8992fd3e61f5",
   "metadata": {},
   "outputs": [
    {
     "name": "stdout",
     "output_type": "stream",
     "text": [
      "There were multiple entries for 0 participants in Q0.\n"
     ]
    }
   ],
   "source": [
    "Q0 = biu.formats.XLSX('../data/raw/psuedo_Isala_participants_status_20200917.nopassword.xlsx')['Compact list']\n",
    "Q0.columns = Q0.iloc[0]\n",
    "Q0 = Q0.iloc[1:]\n",
    "Q0['Leeftijd'] = Q0.Leeftijd.apply(lambda x: int(x) if str(x).isdigit() else None)\n",
    "Q0['idx'] = Q0.Deelnemersnummer\n",
    "Q0 = Q0.set_index('idx')\n",
    "Q0.columns = [ 'Q0.%s' % s for s in Q0.columns ]\n",
    "\n",
    "dups_q0 = [ x[0] for x in biu.ops.lst.freq(Q0.index).items() if x[1] > 1]\n",
    "print(\"There were multiple entries for %d participants in Q0.\" % len(dups_q0))"
   ]
  },
  {
   "cell_type": "markdown",
   "id": "6f36a7ec-b37c-428d-8af1-cdab61eecc3d",
   "metadata": {},
   "source": [
    "### Q2: Questionnaire 1"
   ]
  },
  {
   "cell_type": "code",
   "execution_count": 4,
   "id": "25e44fbf-eb29-48ff-9e3a-9066adf5c895",
   "metadata": {},
   "outputs": [],
   "source": [
    "Q1_excel = biu.formats.XLSX('../data/raw/Q1.qualtrics_raw_pseudo_data_20200811.nopassword.xlsx')\n",
    "Q1 = Q1_excel['Sheet0']\n",
    "r0 = Q1.iloc[0]\n",
    "r1 = Q1.iloc[1]\n",
    "newnames = [ 'Q1.%s.[%s]' % (a,b) if a != b else 'Q1.%s' % (a) for (a,b) in zip(r0, r1)  ]\n",
    "Q1 = Q1.rename(columns=dict(enumerate(newnames)))\n",
    "Q1 = Q1.iloc[3:]\n",
    "Q1['idx'] = Q1['Q1.ExternalReference.[External Data Reference]'].apply(lambda x: 'ISALA%05d' % int(x))\n",
    "Q1 = Q1.set_index('idx')\n",
    "\n",
    "dups_q1 = [ x[0] for x in biu.ops.lst.freq(Q1.index).items() if x[1] > 1]\n",
    "print(\"There were multiple entries for %d participants in Q1.\" % len(dups_q1))"
   ]
  },
  {
   "cell_type": "markdown",
   "id": "7dfa1153-693a-4331-8c01-c0a6781ea375",
   "metadata": {},
   "source": [
    "### Q2: Questionnaire 2"
   ]
  },
  {
   "cell_type": "code",
   "execution_count": 8,
   "id": "34dffc21-4bfa-48f5-b514-a327b806a3b1",
   "metadata": {},
   "outputs": [],
   "source": [
    "Q2_excel = biu.formats.XLSX('../data/raw/Q2.qualtrics_raw_psuedo_data_20210206.nopassword.xlsx')"
   ]
  },
  {
   "cell_type": "code",
   "execution_count": 9,
   "id": "1a45ee86-65c2-4380-bdb9-00dc2749db90",
   "metadata": {},
   "outputs": [],
   "source": [
    "Q2 = Q2_excel['Sheet0']\n",
    "r0 = Q2.iloc[0]\n",
    "r1 = Q2.iloc[1]\n",
    "newnames = [ 'Q2.%s.[%s]' % (a,b) if a != b else 'Q2.%s' % (a) for (a,b) in zip(r0, r1)  ]\n",
    "Q2 = Q2.rename(columns=dict(enumerate(newnames)))\n",
    "Q2 = Q2.iloc[2:-1] # Remove the last line. - NO ISALA NUMBER - Check with sarah about this.\n",
    "Q2['idx'] = Q2['Q2.ExternalReference.[External Data Reference]']"
   ]
  },
  {
   "cell_type": "markdown",
   "id": "75d555c2-de38-40fb-93bf-d997ea56c9a9",
   "metadata": {},
   "source": [
    "#### Remove duplicate responses in Q2"
   ]
  },
  {
   "cell_type": "code",
   "execution_count": 10,
   "id": "e8c02c8c-da0a-4e22-934f-a725ef855e3e",
   "metadata": {},
   "outputs": [],
   "source": [
    "# Remove duplicates\n",
    "dups_q2 = [ x[0] for x in biu.ops.lst.freq(Q2['Q2.ExternalReference.[External Data Reference]']).items() if x[1] > 1]\n",
    "\n",
    "sel = Q2[Q2['Q2.ExternalReference.[External Data Reference]'].isin(dups_q2) & (Q2['Q2.Finished'] =='True')].sort_values('Q2.ExternalReference.[External Data Reference]')\n",
    "\n",
    "remove_duplicate_completed = sel.loc[sel['Q2.RecordedDate.[Recorded Date]'] != sel.groupby('Q2.ExternalReference.[External Data Reference]')\\\n",
    "                                      ['Q2.RecordedDate.[Recorded Date]'].transform(lambda x: max(x))]\\\n",
    "                                .sort_values('Q2.ExternalReference.[External Data Reference]').index\n",
    "#sel\n",
    "\n",
    "remove_duplicate_incomplete = Q2[Q2['Q2.ExternalReference.[External Data Reference]'].isin(dups_q2) & (Q2['Q2.Finished'] != 'True')].index\n",
    "\n",
    "Q2 = Q2.loc[[i for i in Q2.index if i not in set(remove_duplicate_completed) | set(remove_duplicate_incomplete) ]]"
   ]
  },
  {
   "cell_type": "code",
   "execution_count": 11,
   "id": "d8230198-fbcc-49d1-84e7-2eaad0cf97bd",
   "metadata": {},
   "outputs": [],
   "source": [
    "Q2 = Q2.set_index('idx')"
   ]
  },
  {
   "cell_type": "code",
   "execution_count": 12,
   "id": "0cc6f9cd-6b2b-44b1-8789-27b4464b0220",
   "metadata": {},
   "outputs": [
    {
     "name": "stdout",
     "output_type": "stream",
     "text": [
      "There were multiple entries for 0 participants in Q2.\n"
     ]
    },
    {
     "data": {
      "text/plain": [
       "[]"
      ]
     },
     "execution_count": 12,
     "metadata": {},
     "output_type": "execute_result"
    }
   ],
   "source": [
    "dups_q2 = [ x[0] for x in biu.ops.lst.freq(Q2['Q2.ExternalReference.[External Data Reference]']).items() if x[1] > 1]\n",
    "print(\"There were multiple entries for %d participants in Q2.\" % len(dups_q2))\n",
    "dups_q2"
   ]
  },
  {
   "cell_type": "markdown",
   "id": "9dc2349d-241e-4af3-be23-b1a1b9881e09",
   "metadata": {},
   "source": [
    "## A: Flow 1 arrival data"
   ]
  },
  {
   "cell_type": "code",
   "execution_count": 13,
   "id": "95f1921d-7f82-4bc0-acad-b135deed356e",
   "metadata": {},
   "outputs": [],
   "source": [
    "arrival_flow1 = biu.formats.XLSX('../data/raw/Arrival_flow1_data-analysis_20210206.xlsx')['Blad1']\n",
    "arrival_flow1.columns = arrival_flow1.iloc[0]\n",
    "arrival_flow1 = arrival_flow1.iloc[1:3343]\n",
    "\n",
    "# Correct the Isala IDs\n",
    "arrival_flow1['Isala ID'] = arrival_flow1['Isala ID'].apply(lambda x: 'ISALA%05d' % int(''.join([l for l in x if l.isdigit()])))"
   ]
  },
  {
   "cell_type": "code",
   "execution_count": 14,
   "id": "6bb7c00e-375f-43d6-9dd4-aa4f355d4ae5",
   "metadata": {},
   "outputs": [],
   "source": [
    "import datetime\n",
    "def calculate_cycle_day(row):\n",
    "    date_format = '%Y-%m-%d %H:%M:%S'\n",
    "    if isinstance(row['Start menstrual cycle'], datetime.datetime) and isinstance(row['Sample date'], datetime.datetime):\n",
    "        ndays = (row['Sample date'] - row['Start menstrual cycle']).days\n",
    "        if (ndays > 40) | (ndays < 0):\n",
    "            return None\n",
    "        else:\n",
    "            return ndays\n",
    "    else:\n",
    "        return None\n",
    "    #fi\n",
    "arrival_flow1['day_of_cycle'] = arrival_flow1.apply(calculate_cycle_day, axis=1)\n"
   ]
  },
  {
   "cell_type": "markdown",
   "id": "72c4fad1-4392-4652-98c2-d08b63d0934a",
   "metadata": {},
   "source": [
    "### Remove duplicate arrival data"
   ]
  },
  {
   "cell_type": "code",
   "execution_count": 15,
   "id": "5c8b59be-46fa-441f-a93c-0b97bdb827a4",
   "metadata": {},
   "outputs": [],
   "source": [
    "# Remove the duplicate samples. Always use the most recently arrived sample\n",
    "arrival_flow1 = arrival_flow1.loc[(arrival_flow1['Sample date'] == arrival_flow1.groupby('Isala ID')['Sample date'].transform(lambda x: max(x) )) | \\\n",
    "                                 pd.isna(arrival_flow1['Sample date']) ]"
   ]
  },
  {
   "cell_type": "code",
   "execution_count": 16,
   "id": "5ec3aa3a-3a17-49e8-91db-187bde05f397",
   "metadata": {},
   "outputs": [
    {
     "name": "stdout",
     "output_type": "stream",
     "text": [
      "There were multiple entries for 0 participants in arrival data.\n"
     ]
    },
    {
     "data": {
      "text/plain": [
       "''"
      ]
     },
     "execution_count": 16,
     "metadata": {},
     "output_type": "execute_result"
    }
   ],
   "source": [
    "dups_arrival = [ x[0] for x in biu.ops.lst.freq(arrival_flow1['Isala ID']).items() if x[1] > 1]\n",
    "print(\"There were multiple entries for %d participants in arrival data.\" % len(dups_arrival))\n",
    "', '.join(dups_arrival)"
   ]
  },
  {
   "cell_type": "code",
   "execution_count": 17,
   "id": "66f57258-452e-44f6-9aaa-ca67f719c08b",
   "metadata": {
    "tags": []
   },
   "outputs": [],
   "source": [
    "arrival_flow1['idx'] = arrival_flow1['Isala ID']\n",
    "arrival_flow1 = arrival_flow1.set_index('idx')\n",
    "arrival_flow1 = arrival_flow1.rename(columns={c: 'A.%s' % c for c in arrival_flow1.columns})"
   ]
  },
  {
   "cell_type": "markdown",
   "id": "702f00df-664a-407c-9139-9684556f7f9c",
   "metadata": {},
   "source": [
    "# Merge the data frames"
   ]
  },
  {
   "cell_type": "code",
   "execution_count": 18,
   "id": "4a175196-8c55-42af-b755-921d21b0da49",
   "metadata": {},
   "outputs": [],
   "source": [
    "Q_flow1 = Q0.join(Q1).join(Q2).join(arrival_flow1).sort_index()\n",
    "\n",
    "# Attach filter operations\n",
    "Q_flow1['Q1'] = [ idx in Q1.index for idx in Q_flow1.index ]\n",
    "Q_flow1['Q2'] = [ idx in Q2.index for idx in Q_flow1.index ]\n",
    "Q_flow1['A']  = [ idx in arrival_flow1.index for idx in Q_flow1.index ]\n",
    "#Q_flow1['16S'] = [ idx in S.participant.values for idx in Q_flow1.index ]\n",
    "#Q_flow1['16S_QC'] = [ idx in HQS.participant.values for idx in Q_flow1.index ]"
   ]
  },
  {
   "cell_type": "markdown",
   "id": "483f4479-3973-4883-a470-d0063cd42f4e",
   "metadata": {},
   "source": [
    "# Export the merged dataframe"
   ]
  },
  {
   "cell_type": "code",
   "execution_count": 23,
   "id": "b4dae6a4-80d8-4f10-806f-edc6e479da2f",
   "metadata": {},
   "outputs": [],
   "source": [
    "with RDM('../data/processed/merged_questionnaires.xlsx', 'w', nouser=True) as ofd:\n",
    "    Q_flow1.to_excel(ofd)\n",
    "#ewith\n",
    "\n",
    "with RDM('../data/processed/merged_questionnaires.pkl', 'w', nouser=True) as ofd:\n",
    "    Q_flow1.to_pickle(ofd)\n",
    "#ewith"
   ]
  },
  {
   "cell_type": "code",
   "execution_count": 22,
   "id": "069d36b9-2452-477a-975e-c1d9efad4bf9",
   "metadata": {},
   "outputs": [
    {
     "data": {
      "text/plain": [
       "\u001b[0;31mInit signature:\u001b[0m\n",
       " \u001b[0mRDM\u001b[0m\u001b[0;34m(\u001b[0m\u001b[0;34m\u001b[0m\n",
       "\u001b[0;34m\u001b[0m    \u001b[0mpath\u001b[0m\u001b[0;34m,\u001b[0m\u001b[0;34m\u001b[0m\n",
       "\u001b[0;34m\u001b[0m    \u001b[0mmode\u001b[0m\u001b[0;34m=\u001b[0m\u001b[0;34m'w'\u001b[0m\u001b[0;34m,\u001b[0m\u001b[0;34m\u001b[0m\n",
       "\u001b[0;34m\u001b[0m    \u001b[0mfile\u001b[0m\u001b[0;34m=\u001b[0m\u001b[0;32mFalse\u001b[0m\u001b[0;34m,\u001b[0m\u001b[0;34m\u001b[0m\n",
       "\u001b[0;34m\u001b[0m    \u001b[0mnouser\u001b[0m\u001b[0;34m=\u001b[0m\u001b[0;32mFalse\u001b[0m\u001b[0;34m,\u001b[0m\u001b[0;34m\u001b[0m\n",
       "\u001b[0;34m\u001b[0m    \u001b[0msuffix\u001b[0m\u001b[0;34m=\u001b[0m\u001b[0;32mTrue\u001b[0m\u001b[0;34m,\u001b[0m\u001b[0;34m\u001b[0m\n",
       "\u001b[0;34m\u001b[0m    \u001b[0mmodified\u001b[0m\u001b[0;34m=\u001b[0m\u001b[0;32mTrue\u001b[0m\u001b[0;34m,\u001b[0m\u001b[0;34m\u001b[0m\n",
       "\u001b[0;34m\u001b[0m    \u001b[0mtell\u001b[0m\u001b[0;34m=\u001b[0m\u001b[0;32mFalse\u001b[0m\u001b[0;34m,\u001b[0m\u001b[0;34m\u001b[0m\n",
       "\u001b[0;34m\u001b[0m    \u001b[0;34m**\u001b[0m\u001b[0mmeta\u001b[0m\u001b[0;34m,\u001b[0m\u001b[0;34m\u001b[0m\n",
       "\u001b[0;34m\u001b[0m\u001b[0;34m)\u001b[0m\u001b[0;34m\u001b[0m\u001b[0;34m\u001b[0m\u001b[0m\n",
       "\u001b[0;31mDocstring:\u001b[0m      <no docstring>\n",
       "\u001b[0;31mFile:\u001b[0m           /mnt/b/thies/miniconda/envs/biu/lib/python3.8/site-packages/rdmpy/core.py\n",
       "\u001b[0;31mType:\u001b[0m           type\n",
       "\u001b[0;31mSubclasses:\u001b[0m     \n"
      ]
     },
     "metadata": {},
     "output_type": "display_data"
    }
   ],
   "source": [
    "? RDM"
   ]
  },
  {
   "cell_type": "code",
   "execution_count": null,
   "id": "17ca8b07-a2d6-4b93-8c15-4260ba3b231b",
   "metadata": {},
   "outputs": [],
   "source": []
  }
 ],
 "metadata": {
  "kernelspec": {
   "display_name": "Python [conda env:biu] *",
   "language": "python",
   "name": "conda-env-biu-py"
  },
  "language_info": {
   "codemirror_mode": {
    "name": "ipython",
    "version": 3
   },
   "file_extension": ".py",
   "mimetype": "text/x-python",
   "name": "python",
   "nbconvert_exporter": "python",
   "pygments_lexer": "ipython3",
   "version": "3.8.10"
  }
 },
 "nbformat": 4,
 "nbformat_minor": 5
}
